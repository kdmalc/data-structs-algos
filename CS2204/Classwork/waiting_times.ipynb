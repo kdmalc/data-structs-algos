{
 "cells": [
  {
   "cell_type": "markdown",
   "id": "083ffce7",
   "metadata": {},
   "source": [
    "# Analyzing Waiting Times\n",
    "\n",
    "1. Gaussian is a bad choice because it goes out to +/- infinity, and thus it is possible that we get a negative wait time. This cannot be the case\n",
    "2. Uniform distribution just isn't true, most of the time the wait time between people will pretty close, with some outliers (thus a Gaussian, if it would work, would be better)"
   ]
  },
  {
   "cell_type": "code",
   "execution_count": 1,
   "id": "116c36e5",
   "metadata": {},
   "outputs": [],
   "source": [
    "%matplotlib inline\n",
    "\n",
    "from random import expovariate\n",
    "import matplotlib.pyplot as plt\n",
    "from statistics import mean"
   ]
  },
  {
   "cell_type": "markdown",
   "id": "c4c2a3d0",
   "metadata": {},
   "source": [
    "## Arrival and Serving Intervals\n",
    "\n",
    "We are using Poisson processes to model arrival and service interals:\n",
    "\n",
    "$$ P(x, \\lambda) = \\lambda e^{-\\lambda x} $$\n",
    "\n",
    "where the mean interval is:\n",
    "\n",
    "$$ E[X] = \\frac{1}{\\lambda} $$"
   ]
  },
  {
   "cell_type": "code",
   "execution_count": 2,
   "id": "ceaf866d",
   "metadata": {},
   "outputs": [],
   "source": [
    "N = 1_000_000\n",
    "\n",
    "arrival_rate = 10  #minutes\n",
    "service_rate = 8  #minutes\n",
    "\n",
    "arrivals = [expovariate(1 / arrival_rate) for _ in range(N)]\n",
    "services = [expovariate(1 / service_rate) for _ in range(N)]"
   ]
  },
  {
   "cell_type": "markdown",
   "id": "bb7f1b2b",
   "metadata": {},
   "source": [
    "## Validate Intervals\n",
    "1. Shooting star problem // Evergreen property --> if a shooting star doesn't come for the first 20 minutes, you can \"cut\" the graph down to start at 20 minutes.  When you do this, and scale it back up, you get the same graph.  Thus, having waited some amount of time doesn't make things more likely to happen\n",
    "2. This is still PDF, so the area sums to 1"
   ]
  },
  {
   "cell_type": "code",
   "execution_count": 3,
   "id": "f3328a38",
   "metadata": {},
   "outputs": [
    {
     "name": "stdout",
     "output_type": "stream",
     "text": [
      "Mean arrival time: 10.00 minutes\n",
      "Mean service time: 8.00 minutes\n"
     ]
    },
    {
     "data": {
      "image/png": "[encoded data removed]",
      "text/plain": [
       "<Figure size 432x288 with 1 Axes>"
      ]
     },
     "metadata": {
      "needs_background": "light"
     },
     "output_type": "display_data"
    }
   ],
   "source": [
    "print(f\"Mean arrival time: {mean(arrivals):.2f} minutes\")\n",
    "print(f\"Mean service time: {mean(services):.2f} minutes\")\n",
    "\n",
    "plt.hist(arrivals, bins=500, label=\"Arrivals\")\n",
    "plt.hist(services, bins=500, alpha=0.5, label=\"Services\")\n",
    "plt.legend()\n",
    "plt.show()"
   ]
  },
  {
   "cell_type": "markdown",
   "id": "c73556c6",
   "metadata": {},
   "source": [
    "# M/M/1: One Cashier Model"
   ]
  },
  {
   "cell_type": "code",
   "execution_count": 4,
   "id": "16376288",
   "metadata": {},
   "outputs": [
    {
     "name": "stdout",
     "output_type": "stream",
     "text": [
      "Mean wait time: 32.55 minutes\n"
     ]
    }
   ],
   "source": [
    "waits = []\n",
    "wait = 0.0\n",
    "for arrival, service in zip(arrivals, services):\n",
    "    wait = max(0, wait - arrival)\n",
    "    waits.append(wait)\n",
    "    wait += service\n",
    "\n",
    "print(f\"Mean wait time: {mean(waits):.2f} minutes\")"
   ]
  },
  {
   "cell_type": "markdown",
   "id": "43acca7b",
   "metadata": {},
   "source": [
    "# M/M/2: Two Cashier Model"
   ]
  },
  {
   "cell_type": "code",
   "execution_count": 7,
   "id": "418c99da",
   "metadata": {},
   "outputs": [
    {
     "name": "stdout",
     "output_type": "stream",
     "text": [
      "Mean wait time: 1.54 minutes\n"
     ]
    }
   ],
   "source": [
    "waits = []\n",
    "wait = [0.0, 0.0]\n",
    "for arrival, service in zip(arrivals, services):\n",
    "    wait = [max(0, w - arrival) for w in wait]\n",
    "    cashier = wait.index(min(wait))\n",
    "    waits.append(wait[cashier])\n",
    "    wait[cashier] += service\n",
    "\n",
    "print(f\"Mean wait time: {mean(waits):.2f} minutes\")"
   ]
  },
  {
   "cell_type": "code",
   "execution_count": null,
   "id": "a8196e94",
   "metadata": {},
   "outputs": [],
   "source": []
  }
 ],
 "metadata": {
  "kernelspec": {
   "display_name": "Python 3 (ipykernel)",
   "language": "python",
   "name": "python3"
  },
  "language_info": {
   "codemirror_mode": {
    "name": "ipython",
    "version": 3
   },
   "file_extension": ".py",
   "mimetype": "text/x-python",
   "name": "python",
   "nbconvert_exporter": "python",
   "pygments_lexer": "ipython3",
   "version": "3.7.11"
  }
 },
 "nbformat": 4,
 "nbformat_minor": 5
}
