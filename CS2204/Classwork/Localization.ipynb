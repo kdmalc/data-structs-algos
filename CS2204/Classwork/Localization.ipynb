{
 "cells": [
  {
   "cell_type": "code",
   "execution_count": 21,
   "id": "30b57641",
   "metadata": {},
   "outputs": [],
   "source": [
    "%matplotlib inline\n",
    "import matplotlib.pyplot as plt\n",
    "import numpy as np\n",
    "from scipy.optimize import minimize"
   ]
  },
  {
   "cell_type": "markdown",
   "id": "6b5fcc90",
   "metadata": {},
   "source": [
    "# Distance Measurements"
   ]
  },
  {
   "cell_type": "code",
   "execution_count": 34,
   "id": "2ea68cf7",
   "metadata": {},
   "outputs": [
    {
     "data": {
      "text/plain": [
       "array([[  0., 108., 150.,  74.,  88.],\n",
       "       [  0.,   0.,  60.,  95.,  50.],\n",
       "       [  0.,   0.,   0., 105.,  63.],\n",
       "       [  0.,   0.,   0.,   0.,  47.],\n",
       "       [  0.,   0.,   0.,   0.,   0.]])"
      ]
     },
     "execution_count": 34,
     "metadata": {},
     "output_type": "execute_result"
    }
   ],
   "source": [
    "N = 5\n",
    "\n",
    "distance = np.zeros((N, N))\n",
    "distance[0, 1] = 108\n",
    "distance[0, 2] = 150\n",
    "distance[0, 3] = 74\n",
    "distance[0, 4] = 88\n",
    "distance[1, 2] = 60\n",
    "distance[1, 3] = 95\n",
    "distance[1, 4] = 50\n",
    "distance[2, 3] = 105\n",
    "distance[2, 4] = 63\n",
    "distance[3, 4] = 47\n",
    "\n",
    "distance"
   ]
  },
  {
   "cell_type": "markdown",
   "id": "516d0fa7",
   "metadata": {},
   "source": [
    "## Distances are symmetrical, therefore the matrix should be as well"
   ]
  },
  {
   "cell_type": "code",
   "execution_count": 35,
   "id": "370efd88",
   "metadata": {},
   "outputs": [
    {
     "data": {
      "text/plain": [
       "array([[  0., 108., 150.,  74.,  88.],\n",
       "       [108.,   0.,  60.,  95.,  50.],\n",
       "       [150.,  60.,   0., 105.,  63.],\n",
       "       [ 74.,  95., 105.,   0.,  47.],\n",
       "       [ 88.,  50.,  63.,  47.,   0.]])"
      ]
     },
     "execution_count": 35,
     "metadata": {},
     "output_type": "execute_result"
    }
   ],
   "source": [
    "distance = distance + distance.T\n",
    "distance"
   ]
  },
  {
   "cell_type": "markdown",
   "id": "7d5e20f6",
   "metadata": {},
   "source": [
    "## Random Initial Points"
   ]
  },
  {
   "cell_type": "code",
   "execution_count": 36,
   "id": "a528cd69",
   "metadata": {},
   "outputs": [
    {
     "data": {
      "text/plain": [
       "array([[ 34.77598393, 125.84722528],\n",
       "       [ 72.9920475 ,   0.89177744],\n",
       "       [ 82.34556047, 135.60702563],\n",
       "       [ 51.43970445, 108.23199689],\n",
       "       [ 36.35991227,  60.14654148]])"
      ]
     },
     "execution_count": 36,
     "metadata": {},
     "output_type": "execute_result"
    }
   ],
   "source": [
    "scale = np.max(distance)\n",
    "initial_coords = np.random.random((N, 2)) * scale  # 2 for the x, y coords\n",
    "initial_coords"
   ]
  },
  {
   "cell_type": "code",
   "execution_count": 37,
   "id": "247a62c6",
   "metadata": {},
   "outputs": [
    {
     "data": {
      "image/png": "[encoded data removed]",
      "text/plain": [
       "<Figure size 432x288 with 1 Axes>"
      ]
     },
     "metadata": {
      "needs_background": "light"
     },
     "output_type": "display_data"
    }
   ],
   "source": [
    "plt.plot(initial_coords[:, 0], initial_coords[:, 1], \"bo\")\n",
    "plt.show()"
   ]
  },
  {
   "cell_type": "markdown",
   "id": "150dd9fa",
   "metadata": {},
   "source": [
    "# Error of the random initial guess\n",
    "- 5x5 matrix\n",
    "- Automatic broadcasting\n",
    "- Columns are: x0 - x0, x0 - x1, x0 - x2, etc."
   ]
  },
  {
   "cell_type": "code",
   "execution_count": 38,
   "id": "627d77ee",
   "metadata": {},
   "outputs": [
    {
     "data": {
      "text/plain": [
       "array([[  0.        , -38.21606357, -47.56957654, -16.66372052,\n",
       "         -1.58392834],\n",
       "       [ 38.21606357,   0.        ,  -9.35351298,  21.55234304,\n",
       "         36.63213522],\n",
       "       [ 47.56957654,   9.35351298,   0.        ,  30.90585602,\n",
       "         45.9856482 ],\n",
       "       [ 16.66372052, -21.55234304, -30.90585602,   0.        ,\n",
       "         15.07979218],\n",
       "       [  1.58392834, -36.63213522, -45.9856482 , -15.07979218,\n",
       "          0.        ]])"
      ]
     },
     "execution_count": 38,
     "metadata": {},
     "output_type": "execute_result"
    }
   ],
   "source": [
    "x_diff = initial_coords[:, 0, np.newaxis] - initial_coords[:, 0]\n",
    "x_diff"
   ]
  },
  {
   "cell_type": "code",
   "execution_count": 39,
   "id": "abaf2dbf",
   "metadata": {},
   "outputs": [
    {
     "data": {
      "text/plain": [
       "array([[   0.        ,  124.95544784,   -9.75980035,   17.61522839,\n",
       "          65.7006838 ],\n",
       "       [-124.95544784,    0.        , -134.71524819, -107.34021945,\n",
       "         -59.25476404],\n",
       "       [   9.75980035,  134.71524819,    0.        ,   27.37502874,\n",
       "          75.46048415],\n",
       "       [ -17.61522839,  107.34021945,  -27.37502874,    0.        ,\n",
       "          48.08545541],\n",
       "       [ -65.7006838 ,   59.25476404,  -75.46048415,  -48.08545541,\n",
       "           0.        ]])"
      ]
     },
     "execution_count": 39,
     "metadata": {},
     "output_type": "execute_result"
    }
   ],
   "source": [
    "y_diff = initial_coords[:, 1, np.newaxis] - initial_coords[:, 1]\n",
    "y_diff"
   ]
  },
  {
   "cell_type": "code",
   "execution_count": 40,
   "id": "f15c5b5e",
   "metadata": {},
   "outputs": [
    {
     "data": {
      "text/plain": [
       "49434.70174365972"
      ]
     },
     "execution_count": 40,
     "metadata": {},
     "output_type": "execute_result"
    }
   ],
   "source": [
    "d = np.sqrt(x_diff**2 + y_diff**2)\n",
    "err = np.sum((d - distance) ** 2)\n",
    "err"
   ]
  },
  {
   "cell_type": "markdown",
   "id": "2769c2c7",
   "metadata": {},
   "source": [
    "## Now minimize this distance error"
   ]
  },
  {
   "cell_type": "code",
   "execution_count": 41,
   "id": "039aeb30",
   "metadata": {},
   "outputs": [],
   "source": [
    "def err_fun(x):\n",
    "    coords = x.reshape((N, 2))\n",
    "    x = coords[:, 0, np.newaxis] - coords[:, 0]\n",
    "    y_diff = coords[:, 1, np.newaxis] - coords[:, 1]\n",
    "    d = np.sqrt(x_diff**2 + y_diff**2)\n",
    "    err = np.sum((d - distance) ** 2)\n",
    "    return err"
   ]
  },
  {
   "cell_type": "code",
   "execution_count": 42,
   "id": "301f2342",
   "metadata": {},
   "outputs": [
    {
     "data": {
      "text/plain": [
       "49434.70174365972"
      ]
     },
     "execution_count": 42,
     "metadata": {},
     "output_type": "execute_result"
    }
   ],
   "source": [
    "err_fun(initial_coords)"
   ]
  },
  {
   "cell_type": "code",
   "execution_count": 43,
   "id": "e18958fe",
   "metadata": {},
   "outputs": [
    {
     "data": {
      "text/plain": [
       "      fun: 4184.9429942945135\n",
       " hess_inv: array([[1.        , 0.        , 0.        , 0.        , 0.        ,\n",
       "        0.        , 0.        , 0.        , 0.        , 0.        ],\n",
       "       [0.        , 0.23934584, 0.        , 0.17907299, 0.        ,\n",
       "        0.19679002, 0.        , 0.24609841, 0.        , 0.20188802],\n",
       "       [0.        , 0.        , 1.        , 0.        , 0.        ,\n",
       "        0.        , 0.        , 0.        , 0.        , 0.        ],\n",
       "       [0.        , 0.17907299, 0.        , 0.24226269, 0.        ,\n",
       "        0.19641706, 0.        , 0.25972061, 0.        , 0.18217787],\n",
       "       [0.        , 0.        , 0.        , 0.        , 1.        ,\n",
       "        0.        , 0.        , 0.        , 0.        , 0.        ],\n",
       "       [0.        , 0.19679002, 0.        , 0.19641706, 0.        ,\n",
       "        0.26703111, 0.        , 0.26277663, 0.        , 0.20883321],\n",
       "       [0.        , 0.        , 0.        , 0.        , 0.        ,\n",
       "        0.        , 1.        , 0.        , 0.        , 0.        ],\n",
       "       [0.        , 0.24609841, 0.        , 0.25972061, 0.        ,\n",
       "        0.26277663, 0.        , 0.4211963 , 0.        , 0.26995673],\n",
       "       [0.        , 0.        , 0.        , 0.        , 0.        ,\n",
       "        0.        , 0.        , 0.        , 1.        , 0.        ],\n",
       "       [0.        , 0.20188802, 0.        , 0.18217787, 0.        ,\n",
       "        0.20883321, 0.        , 0.26995673, 0.        , 0.29172912]])\n",
       "      jac: array([0., 0., 0., 0., 0., 0., 0., 0., 0., 0.])\n",
       "  message: 'Optimization terminated successfully.'\n",
       "     nfev: 363\n",
       "      nit: 22\n",
       "     njev: 33\n",
       "   status: 0\n",
       "  success: True\n",
       "        x: array([ 34.77598393, 166.77851663,  72.9920475 ,  54.62552746,\n",
       "        82.34556047,  15.85828392,  51.43970445, 119.24654279,\n",
       "        36.35991227,  74.27390616])"
      ]
     },
     "execution_count": 43,
     "metadata": {},
     "output_type": "execute_result"
    }
   ],
   "source": [
    "# Function to minimize, variables to minimize\n",
    "result = minimize(err_fun, initial_coords.flatten())\n",
    "result"
   ]
  },
  {
   "cell_type": "code",
   "execution_count": 45,
   "id": "fdaad7a8",
   "metadata": {},
   "outputs": [
    {
     "data": {
      "text/plain": [
       "array([[ 34.77598393, 166.77851663],\n",
       "       [ 72.9920475 ,  54.62552746],\n",
       "       [ 82.34556047,  15.85828392],\n",
       "       [ 51.43970445, 119.24654279],\n",
       "       [ 36.35991227,  74.27390616]])"
      ]
     },
     "execution_count": 45,
     "metadata": {},
     "output_type": "execute_result"
    }
   ],
   "source": [
    "# Final x, y coordinates\n",
    "final_coords = result.x.reshape((N, 2))\n",
    "final_coords"
   ]
  },
  {
   "cell_type": "code",
   "execution_count": 47,
   "id": "88e00473",
   "metadata": {},
   "outputs": [
    {
     "data": {
      "image/png": "[encoded data removed]",
      "text/plain": [
       "<Figure size 432x288 with 1 Axes>"
      ]
     },
     "metadata": {
      "needs_background": "light"
     },
     "output_type": "display_data"
    }
   ],
   "source": [
    "plt.plot(initial_coords[:, 0], initial_coords[:, 1], \"bo\")\n",
    "plt.plot(final_coords[:, 0], final_coords[:, 1], \"rx\")\n",
    "plt.axis(\"Equal\")  # Force x, y axes to have the same scaling\n",
    "plt.show()"
   ]
  },
  {
   "cell_type": "code",
   "execution_count": null,
   "id": "78f2eb06",
   "metadata": {},
   "outputs": [],
   "source": []
  }
 ],
 "metadata": {
  "kernelspec": {
   "display_name": "Python 3 (ipykernel)",
   "language": "python",
   "name": "python3"
  },
  "language_info": {
   "codemirror_mode": {
    "name": "ipython",
    "version": 3
   },
   "file_extension": ".py",
   "mimetype": "text/x-python",
   "name": "python",
   "nbconvert_exporter": "python",
   "pygments_lexer": "ipython3",
   "version": "3.7.11"
  }
 },
 "nbformat": 4,
 "nbformat_minor": 5
}
