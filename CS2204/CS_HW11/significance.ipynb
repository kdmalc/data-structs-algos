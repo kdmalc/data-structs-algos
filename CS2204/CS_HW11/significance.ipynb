{
 "cells": [
  {
   "cell_type": "markdown",
   "metadata": {},
   "source": [
    "# Homework: Significance Test"
   ]
  },
  {
   "cell_type": "markdown",
   "metadata": {},
   "source": [
    "<img src=\"https://i.dlpng.com/static/png/5251081-redpill-red-pill-png-384_269_preview.png\" width=\"200\" align=\"right\">\n",
    "\n",
    "## Objectives\n",
    "\n",
    "- Practice working with Jupyter Notebooks\n",
    "- Understand the basic concepts of statistical significance\n",
    "- Use the _shuffling_ method for hypothesis testing\n",
    "\n",
    "Recommended source: https://www.youtube.com/watch?v=Iq9DzN6mvYA\n",
    "\n",
    "## Background\n",
    "\n",
    "Your professor is conducting a [randomized control trial](https://en.wikipedia.org/wiki/Randomized_controlled_trial) to verify the effectiveness of a new wonder supplement ( _Pythonifin_ ) on algorithmic thinking and problem solving. The instructor first seeks [IRB](https://en.wikipedia.org/wiki/Institutional_review_board) approval and he follows the ethical guidelines for human subject research by making the participation completely voluntary, offering no rewards (or punishment) for taking (or not taking) part in the study, and assigning the participants to the treatment (i.e. taking _Pythonifin_ ) and to the control (i.e. taking a placebo) groups completely randomly.\n",
    "\n",
    "By the beginning of the trial 35 students decide to enroll to the study. Since there are 20 doses of _Pythonifin_ are availaable, the professor decides to assing 20 students to the treatment group and the remaining 15 students to the control group. Each test subject is given a pill 30 minutes before taking a test exam (this exam score will not be used in the final semester grade). All tests are evaluated without knowing the group assignments (blind study). The anonymized test scores are shown in the following table:\n",
    "\n",
    "| Pythofinin | Placebo |\n",
    "|------------|---------|\n",
    "|          91|       84|\n",
    "|          87|       92|\n",
    "|          71|       78|\n",
    "|         100|      100|\n",
    "|          91|       82|\n",
    "|          97|       85|\n",
    "|         100|       78|\n",
    "|          80|       87|\n",
    "|         100|      100|\n",
    "|          79|       85|\n",
    "|          83|       93|\n",
    "|          94|       76|\n",
    "|          83|       86|\n",
    "|          79|       89|\n",
    "|          99|       88|\n",
    "|          95|         |\n",
    "|          90|         |\n",
    "|          97|         |\n",
    "|         100|         |\n",
    "|          91|         |\n",
    "\n",
    "While, at first glance, the results show a slight advantage in using _Pythonifin_ , the professor has heard about rigorous significance testing. Unfortunately, he has very limited background in statistical techniques. He decides to do a [permutation test](https://en.wikipedia.org/wiki/Resampling_(statistics)#Permutation_tests) to see if the results are significant at a _p value_ of 5%. In a nutshell, he wants to know, that the chance of getting this particular result by accident is less than 5%.\n",
    "\n",
    "In this assignment you are going to follow the thought process of your professor. **Try to understand each step, and make sure you provide code solutions and/or text inputs for each `#TODO` item (replacing `#TODO` with your input).**"
   ]
  },
  {
   "cell_type": "markdown",
   "metadata": {},
   "source": [
    "## Step 1: Setup (10 pts)\n",
    "Please, provide your VUnetID. Also, if you need to import any additional Python modules (you can come back here later), add those import statements in the following code cell.\n",
    "\n",
    "**VUnetID** : malcolkd"
   ]
  },
  {
   "cell_type": "code",
   "execution_count": 1,
   "metadata": {},
   "outputs": [],
   "source": [
    "# Import statements\n",
    "import matplotlib.pyplot as plt\n",
    "%matplotlib inline\n",
    "\n",
    "import statistics\n",
    "import numpy as np"
   ]
  },
  {
   "cell_type": "markdown",
   "metadata": {},
   "source": [
    "## Step 2: Data Preparation (10 pts)\n",
    "\n",
    "Using the results table above, create two Python lists, named `pythonifin` and `placebo`, containing the test scores for each subject."
   ]
  },
  {
   "cell_type": "code",
   "execution_count": 2,
   "metadata": {},
   "outputs": [],
   "source": [
    "pythonifin = [91, 87, 71, 100, 91, 97, 100, 80, 100, 79, 83, 94, 83, 79, \n",
    "              99, 95, 90, 97, 100, 91]\n",
    "placebo = [84, 92, 78, 100, 82, 85, 78, 87, 100, 85, 93, 76, 86, 89, 88]"
   ]
  },
  {
   "cell_type": "markdown",
   "metadata": {},
   "source": [
    "## Step 3: Initial Observations (15 pts)\n",
    "\n",
    "Compute the average (mean) scores for both groups. Print these values and the difference between them (the actual formating is up to you)."
   ]
  },
  {
   "cell_type": "code",
   "execution_count": 3,
   "metadata": {},
   "outputs": [
    {
     "name": "stdout",
     "output_type": "stream",
     "text": [
      "Pythonifin mean: 90.35\n",
      "Placebo Mean: 86.87\n",
      "Difference of Means: 3.483\n"
     ]
    }
   ],
   "source": [
    "py_mean = statistics.mean(pythonifin)\n",
    "pla_mean = statistics.mean(placebo)\n",
    "d_mean = py_mean - pla_mean\n",
    "\n",
    "print(f\"Pythonifin mean: {py_mean:0.4}\")\n",
    "print(f\"Placebo Mean: {pla_mean:0.4}\")\n",
    "print(f\"Difference of Means: {d_mean:0.4}\")"
   ]
  },
  {
   "cell_type": "markdown",
   "metadata": {},
   "source": [
    "## Step 4: Initial Conclusion\n",
    "\n",
    "Please, provide your initial assesment in plain english on the effectiveness of _Pythofinin_. Please, be honest and do not come back later to re-assess you conclusions here. _This answer will not be graded_ .\n",
    "\n",
    "\n",
    "**Your initial assessment**: Just based on mean, with no statistical analysis conducted, it would appear that Pythonifin makes students perform better on average.\n"
   ]
  },
  {
   "cell_type": "markdown",
   "metadata": {},
   "source": [
    "## Step 5: Getting some insights (15 pts)\n",
    "\n",
    "Use the [`plt.hist()`](https://matplotlib.org/3.3.1/api/_as_gen/matplotlib.pyplot.hist.html) function to plot the histograms of the two groups. You should have a single figure with two overlapping histogram plots in different colors. (Hint: you may want to use the `alpha=` optional parameter to control the transparency.)"
   ]
  },
  {
   "cell_type": "code",
   "execution_count": 4,
   "metadata": {},
   "outputs": [
    {
     "data": {
      "image/png": "[encoded data removed]",
      "text/plain": [
       "<Figure size 432x288 with 1 Axes>"
      ]
     },
     "metadata": {
      "needs_background": "light"
     },
     "output_type": "display_data"
    }
   ],
   "source": [
    "plt.hist(pythonifin, label='Pythonifin')\n",
    "plt.hist(placebo, alpha=0.5, label='Placebo')\n",
    "plt.legend()\n",
    "plt.title('Histogram of Scores: Pythonifin vs Placebo')\n",
    "plt.xlabel('Score')\n",
    "plt.ylabel('Quantity')\n",
    "plt.show()"
   ]
  },
  {
   "cell_type": "markdown",
   "metadata": {},
   "source": [
    "## Step 5: Intermediate Conclusion\n",
    "\n",
    "Based on the histograms do you have a _second opinion_ (in plain english) on the results? Again, do this now, and do not come back later. _This answer will not be graded_ .\n",
    "\n",
    "\n",
    "**Your intermediate assessment**: It still appears that the Pythonifin helps performance, as there were lots of high scorers and 1 low scorer.  It may instead be possible that it just increases the variance.\n"
   ]
  },
  {
   "cell_type": "markdown",
   "metadata": {},
   "source": [
    "## Step 6: Significance Test with Permutation (40 pts)\n",
    "\n",
    "Use the permutation (a.k.a shuffling) approach to test the significance of your results. \n",
    "\n",
    "- Run `1000` experiments where you _randomly_ (re)assign all the test scores to the two treatment groups. Make sure, you keep the group sizes the same (20 vs. 15). \n",
    "- Store the difference of the means of the two random groups in a Python list (`1000` difference of means from the `1000` experiments).\n",
    "- Compute the number of experiments, when the difference between the two group mean scores were _at least_ as high as in the original non-shuffled case (i.e. Step 3) and compute the ratio of this count to the total number of experiments (this is your estimated _p-value_ ).\n",
    "- Make a histogram plot of the difference of means.\n",
    "- Print your _p-value_ (actual formating is up to you). Note: the _p-value_ is the area of the tail section of your histogram beyond the x-axis coordinate of the original difference of means."
   ]
  },
  {
   "cell_type": "code",
   "execution_count": 5,
   "metadata": {},
   "outputs": [
    {
     "name": "stdout",
     "output_type": "stream",
     "text": [
      "The p value for this shuffled case study was 0.098\n"
     ]
    },
    {
     "data": {
      "image/png": "[encoded data removed]",
      "text/plain": [
       "<Figure size 432x288 with 1 Axes>"
      ]
     },
     "metadata": {
      "needs_background": "light"
     },
     "output_type": "display_data"
    }
   ],
   "source": [
    "#TODO\n",
    "np.random.seed(0)\n",
    "num_trials = 1000\n",
    "delta_means = [0] * num_trials\n",
    "\n",
    "all_scores = pythonifin + placebo\n",
    "\n",
    "for idx in range(num_trials):\n",
    "    # Make a separate object\n",
    "    shuffled_scores = list(tuple(all_scores))\n",
    "\n",
    "    np.random.shuffle(shuffled_scores)\n",
    "    py = shuffled_scores[0:20]\n",
    "    pla = shuffled_scores[20:]\n",
    "    delta_means[idx] = statistics.mean(py) - statistics.mean(pla)\n",
    "    \n",
    "higher_deltas = [delta for delta in delta_means if delta >= d_mean]\n",
    "ratio = len(higher_deltas) / num_trials\n",
    "print(f'The p value for this shuffled case study was {ratio}')\n",
    "\n",
    "plt.hist(delta_means, bins=20)\n",
    "plt.title(f'{num_trials} Shuffled Trials')\n",
    "plt.xlabel('Difference in means')\n",
    "plt.ylabel('Quantity')\n",
    "plt.axvline(d_mean, color='red')\n",
    "plt.show()"
   ]
  },
  {
   "cell_type": "markdown",
   "metadata": {},
   "source": [
    "## Step 7: Final Conclusion (10 pts)\n",
    "\n",
    "Please, provide your **final assesment** in plain english on the effectiveness of _Pythofinin_. You should reject the hypothesis that the supplement works if your test result (difference of the two origianlly observed means) can happen accidentally by more than 5% chance. (Note: 5% is an arbitrary but widely accepted threshold).\n",
    "\n",
    "\n",
    "**Your final assessment**: Given that the calculated p-value from the shuffling test was 0.098, which is greater than 5%, this indicates that we should reject the null hypothesis that the supplement works, and thus the final conclusion is that Pythonifin actually does not work."
   ]
  },
  {
   "cell_type": "markdown",
   "metadata": {},
   "source": [
    "## Grading\n",
    "\n",
    "In this assignment you will not have access to an autograder program (i.e. _validator_ ). Your work will be inspected and graded manually. Make sure you took care of every `#TODO` items in your assignment. Also, verify, that your notebook document can be executed sequentially from a clean state. You can do this by using the _\"Kernel/Restart & Run All\"_ menu item and checking your results.\n",
    "\n",
    "### Penalties\n",
    "\n",
    "Your work will not be checked for PEP8 style problems. Still, try to write readable and concise code.\n",
    "\n",
    "## Submission\n",
    "\n",
    "Please, upload the final version of this notebook file (`significance.ipynb`) to Brightspace."
   ]
  },
  {
   "cell_type": "code",
   "execution_count": null,
   "metadata": {},
   "outputs": [],
   "source": []
  }
 ],
 "metadata": {
  "kernelspec": {
   "display_name": "Python 3 (ipykernel)",
   "language": "python",
   "name": "python3"
  },
  "language_info": {
   "codemirror_mode": {
    "name": "ipython",
    "version": 3
   },
   "file_extension": ".py",
   "mimetype": "text/x-python",
   "name": "python",
   "nbconvert_exporter": "python",
   "pygments_lexer": "ipython3",
   "version": "3.7.11"
  }
 },
 "nbformat": 4,
 "nbformat_minor": 4
}
