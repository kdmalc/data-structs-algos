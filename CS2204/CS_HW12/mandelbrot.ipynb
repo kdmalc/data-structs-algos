{
 "cells": [
  {
   "cell_type": "markdown",
   "metadata": {},
   "source": [
    "# Homework: Mandelbrot Set"
   ]
  },
  {
   "cell_type": "markdown",
   "metadata": {},
   "source": [
    "## Objectives\n",
    "\n",
    "- Practice working with NumPy arrays\n",
    "- Implement numerical array computations without `for` or `while` loops\n",
    "\n",
    "\n",
    "## Background\n",
    "\n",
    "One of the most popular mathematical fractals (self-similar patterns at increasingly small scales) is the [Mandelbrot Set](https://en.wikipedia.org/wiki/Mandelbrot_set). This is a subset of the complex numbers for which a simple iterative computation (executed arbitrary number of times) remains bounded, i.e. produces a finite value within a preset bound. \n",
    "\n",
    "To decide if a complex number ($c$) is inside of the Mandelbrot Set, one evaluates the following iterative computation:\n",
    "\n",
    "$$ z_0 = 0 $$\n",
    "$$ z_{n+1} = z_{n}^2 + c $$\n",
    "\n",
    "If the magnitude (absolute value) of $z_n$ ($\\lvert z_n \\rvert$) remains at or below `2`, the original $c$ complex number is inside the set.\n",
    "\n",
    "The popularity of this set is due to the interesting visual patterns, if the the complex values and their set membership are shown on 2D plane. \n",
    "\n",
    "The actual algorithm for generating such and image is relatively simple:\n",
    "\n",
    "1. Select a region (`c_topleft`, `c_bottomright`) on the complex plane and the resolution of the image.\n",
    "\n",
    "2. Compute the complex grid points based on the region and the resolution.\n",
    "\n",
    "3. For each grid point, execute the iterative algorithm above for `MAX_ITERATION` times. If during the iteration the $\\lvert z_n \\rvert$ value becomes larger than `2`, the point is not in the set\n",
    "\n",
    "4. For each grid point visualize the set membership with a color\n",
    "\n",
    "    Option 1: The pixel is `black` if the corresponding complex value is in the set, otherwise, the pixel is `white`.\n",
    "    \n",
    "    Option 2: Use a color scale to visualize the number of steps it took for the the given complex value to cross the threshold of `2`.\n",
    "\n",
    "**Try to understand each step, and make sure you provide code solutions and/or text inputs for each `#TODO` item (replacing `#TODO` with your input).**"
   ]
  },
  {
   "cell_type": "markdown",
   "metadata": {},
   "source": [
    "## Step 1: Setup (10 pts)\n",
    "Please, provide your VUnetID. Also, if you need to import any additional Python modules (you can come back here later), add those import statements in the following code cell.\n",
    "\n",
    "**VUnetID** : malcolkd"
   ]
  },
  {
   "cell_type": "code",
   "execution_count": 1,
   "metadata": {},
   "outputs": [],
   "source": [
    "# Import statements\n",
    "import matplotlib.pyplot as plt\n",
    "%matplotlib inline\n",
    "\n",
    "#TODO\n",
    "import numpy as np"
   ]
  },
  {
   "cell_type": "markdown",
   "metadata": {},
   "source": [
    "## Step 2: Create the complex grid (25 pts)\n",
    "\n",
    "Finish the code cell below, by assigning a 2D array with a shape of `(RES_X, RES_Y)` to variable `c`. Each value of the array should be a complex number, creating a uniformly sampled grid between `c_topleft` and `c_bottomright`. \n",
    "\n",
    "Hint: try to use `np.linspace` with broadcasting or `np.meshgrid`. The `c` grid should look like this (showing the some values at the opposite corners):\n",
    "\n",
    "```python\n",
    "[\n",
    "    [-2+1.4j,       -1.9971972+1.4j,       -1.99439439+1.4j,       ...]\n",
    "    [-2+1.3971972j, -1.9971972+1.3971972j, -1.99439439+1.3971972j, ...]\n",
    "    ...\n",
    "    [...,  0.79439439-1.3971972j, 0.7971972 -1.3971972j, 0.8-1.3971972j]\n",
    "    [...,  0.79439439-1.4j,       0.7971972-1.4j,        0.8-1.4j]\n",
    "]\n",
    "```\n",
    "\n",
    "As you can see, the _real_ parts of the complex numbers are stepped across the columns, while the _imaginary_ parts are swept through the rows. If you have a complex value (or NumPy array with complex values), you can access the _real_ and _imaginary_ parts using the `.real` and `.imag` properties. Also, to build a complex number from two floating point numbers (`a` and `b`, where `b` represents the imaginary part), you can use the `a + 1j * b` expression (notice, that you build the imaginary part by multiplying with `1j`).\n",
    "\n",
    "Finally, try to do this experiment with the following example (observe the variables and the final result):\n",
    "\n",
    "```python\n",
    "import numpy as np\n",
    "x = np.arange(5) * 100\n",
    "y = np.arange(5).reshape((5, 1))\n",
    "x + y\n",
    "```\n",
    "\n",
    "Obviously, you may want to use `linspace` instead of `arange` and complex/imaginary numbers (instead of the 100 scaling), but this should give you some ideas on how to leverage the broadcasting rules to create a 2D grid."
   ]
  },
  {
   "cell_type": "code",
   "execution_count": 6,
   "metadata": {},
   "outputs": [],
   "source": [
    "RES_X, RES_Y = 1000, 1000\n",
    "MAX_ITERATION = 20\n",
    "c_topleft = -2+1.4j\n",
    "c_bottomright = 0.8-1.4j\n",
    "\n",
    "xc = np.linspace(c_topleft.real, c_bottomright.real, num=RES_X)\n",
    "yc = np.linspace(c_topleft.imag, c_bottomright.imag, num=RES_Y)\n",
    "yc = yc.reshape((yc.shape[0], 1))\n",
    "\n",
    "c = xc + yc*1j"
   ]
  },
  {
   "cell_type": "code",
   "execution_count": 7,
   "metadata": {},
   "outputs": [
    {
     "name": "stdout",
     "output_type": "stream",
     "text": [
      "(1000, 1000)\n"
     ]
    },
    {
     "data": {
      "text/plain": [
       "array([[-2.       +1.4j      , -1.9971972+1.4j      ],\n",
       "       [-2.       +1.3971972j, -1.9971972+1.3971972j]])"
      ]
     },
     "execution_count": 7,
     "metadata": {},
     "output_type": "execute_result"
    }
   ],
   "source": [
    "print(c.shape)\n",
    "c[0:2, 0:2]"
   ]
  },
  {
   "cell_type": "markdown",
   "metadata": {},
   "source": [
    "## Step 3: Initialize the $z$ and $d$ arrays  (10 pts)\n",
    "\n",
    "Create a `z` array, which has the same shape as `c`, but all values are initially set to `0`.\n",
    "Also, create a `d` array, which has the same shape as `c`. This array will be used to keep track of how many iteration steps were needed for $\\lvert z_n \\rvert$ to cross the threshold.  Hint: use the `np.zeros_like()` and/or `np.ones_like()` functions. Also, because the `d` array stores the number of iterations, make sure that the values are of an integer data type (e.g. you can specify `dtype=np.int` as an optional paramter for array creation functions.)"
   ]
  },
  {
   "cell_type": "code",
   "execution_count": 14,
   "metadata": {},
   "outputs": [],
   "source": [
    "z = np.zeros_like(c, dtype=np.cdouble)\n",
    "d = np.zeros_like(c, dtype=np.int32)"
   ]
  },
  {
   "cell_type": "markdown",
   "metadata": {},
   "source": [
    "## Step 4: Run the iterative algorithm (50 pts)\n",
    "\n",
    "Execute a loop of `MAX_ITERATION` steps. In each iteration compute the new `z` value and update the `d` values. For the `z` value update you use the $ z_{n+1} = z_{n}^2 + c $ formula. For updating `d` you need to check if this is the first time when the computed $\\lvert z_n \\rvert$ value crossed the threshold of `2`. If this is the case, update `d` to the for loop iteration variable, otherwise keep it at the original (`MAX_ITERATION`) value. \n",
    "\n",
    "Hint: you can use `np.absolute()` to compute the magnitude of complex numbers. Also, you can use boolean indexing ( _masking_ ) to update `d`. Also, some of the values in the `z` array will grow very fast and will create numerical overflows. You may ignore those warnings (or, if you are a perfectionist, you can use boolean indexing ( _masking_ ) to compute and update only those `z` values, which are still below the absolute threshold). \n",
    "\n",
    "**Important: you have to use array computation for doing these updates. The only `for` loop in this cell is for the `MAX_ITERATION` steps. In other words, you are not allowed to go through the arrays with explicit for loops.** If you cannot solve the algorithm without explicit for loops, max. 30 pts will be given. \n"
   ]
  },
  {
   "cell_type": "code",
   "execution_count": 15,
   "metadata": {},
   "outputs": [
    {
     "ename": "ValueError",
     "evalue": "The truth value of an array with more than one element is ambiguous. Use a.any() or a.all()",
     "output_type": "error",
     "traceback": [
      "\u001b[1;31m---------------------------------------------------------------------------\u001b[0m",
      "\u001b[1;31mValueError\u001b[0m                                Traceback (most recent call last)",
      "\u001b[1;32m~\\AppData\\Local\\Temp/ipykernel_17204/2132862844.py\u001b[0m in \u001b[0;36m<module>\u001b[1;34m\u001b[0m\n\u001b[0;32m      8\u001b[0m     \u001b[1;32melse\u001b[0m\u001b[1;33m:\u001b[0m\u001b[1;33m\u001b[0m\u001b[1;33m\u001b[0m\u001b[0m\n\u001b[0;32m      9\u001b[0m         \u001b[0mz\u001b[0m\u001b[1;33m[\u001b[0m\u001b[1;33m:\u001b[0m\u001b[1;33m,\u001b[0m \u001b[0mi\u001b[0m\u001b[1;33m]\u001b[0m \u001b[1;33m=\u001b[0m \u001b[0mz\u001b[0m\u001b[1;33m[\u001b[0m\u001b[1;33m:\u001b[0m\u001b[1;33m,\u001b[0m\u001b[0mi\u001b[0m\u001b[1;33m-\u001b[0m\u001b[1;36m1\u001b[0m\u001b[1;33m]\u001b[0m\u001b[1;33m**\u001b[0m\u001b[1;36m2\u001b[0m \u001b[1;33m+\u001b[0m \u001b[0mc\u001b[0m\u001b[1;33m[\u001b[0m\u001b[1;33m:\u001b[0m\u001b[1;33m,\u001b[0m \u001b[0mi\u001b[0m\u001b[1;33m-\u001b[0m\u001b[1;36m1\u001b[0m\u001b[1;33m]\u001b[0m\u001b[1;33m\u001b[0m\u001b[1;33m\u001b[0m\u001b[0m\n\u001b[1;32m---> 10\u001b[1;33m         \u001b[1;32mif\u001b[0m \u001b[0mnp\u001b[0m\u001b[1;33m.\u001b[0m\u001b[0mabsolute\u001b[0m\u001b[1;33m(\u001b[0m\u001b[0mz\u001b[0m\u001b[1;33m[\u001b[0m\u001b[1;33m:\u001b[0m\u001b[1;33m,\u001b[0m \u001b[0mi\u001b[0m\u001b[1;33m]\u001b[0m\u001b[1;33m)\u001b[0m \u001b[1;33m>\u001b[0m \u001b[1;36m2\u001b[0m \u001b[1;32mand\u001b[0m \u001b[0mfirst_pass\u001b[0m \u001b[1;32mis\u001b[0m \u001b[1;32mTrue\u001b[0m\u001b[1;33m:\u001b[0m\u001b[1;33m\u001b[0m\u001b[1;33m\u001b[0m\u001b[0m\n\u001b[0m\u001b[0;32m     11\u001b[0m             \u001b[0md\u001b[0m\u001b[1;33m[\u001b[0m\u001b[1;33m:\u001b[0m\u001b[1;33m,\u001b[0m \u001b[0mi\u001b[0m\u001b[1;33m]\u001b[0m \u001b[1;33m=\u001b[0m \u001b[0mi\u001b[0m\u001b[1;33m\u001b[0m\u001b[1;33m\u001b[0m\u001b[0m\n\u001b[0;32m     12\u001b[0m             \u001b[0mfirst_pass\u001b[0m \u001b[1;33m=\u001b[0m \u001b[1;32mFalse\u001b[0m\u001b[1;33m\u001b[0m\u001b[1;33m\u001b[0m\u001b[0m\n",
      "\u001b[1;31mValueError\u001b[0m: The truth value of an array with more than one element is ambiguous. Use a.any() or a.all()"
     ]
    }
   ],
   "source": [
    "#TODO\n",
    "\n",
    "first_pass = True\n",
    "\n",
    "for i in range(MAX_ITERATION):\n",
    "    if i == 0:\n",
    "        pass\n",
    "    else:\n",
    "        z[:, i] = z[:,i-1]**2 + c[:, i-1]\n",
    "        if np.absolute(z[:, i]) > 2 and first_pass is True:\n",
    "            d[:, i] = i\n",
    "            first_pass = False\n",
    "    "
   ]
  },
  {
   "cell_type": "code",
   "execution_count": null,
   "metadata": {},
   "outputs": [],
   "source": []
  },
  {
   "cell_type": "markdown",
   "metadata": {},
   "source": [
    "## Step 5: Visualize the results (5 pts)\n",
    "\n",
    "Use `plt.imshow()` to visualize the results (i.e. the iteration numbers, when the $\\lvert z_n \\rvert$ values crossed the threshold)\n"
   ]
  },
  {
   "cell_type": "code",
   "execution_count": null,
   "metadata": {},
   "outputs": [],
   "source": [
    "plt.figure(figsize=(10, 10))\n",
    "#TODO"
   ]
  },
  {
   "cell_type": "markdown",
   "metadata": {},
   "source": [
    "## Grading\n",
    "\n",
    "In this assignment you will not have access to an autograder program (i.e. _validator_ ). Your work will be inspected and graded manually. Make sure you took care of every `#TODO` items in your assignment. Also, verify, that your notebook document can be executed sequentially from a clean state. You can do this by using the _\"Kernel/Restart & Run All\"_ menu item and checking your results.\n",
    "\n",
    "### Penalties\n",
    "\n",
    "Your work will not be checked for PEP8 style problems. Still, try to write readable and concise code.\n",
    "\n",
    "## Submission\n",
    "\n",
    "Please, upload the final version of this notebook file (`mandelbrot.ipynb`) to Brightspace."
   ]
  }
 ],
 "metadata": {
  "kernelspec": {
   "display_name": "Python 3 (ipykernel)",
   "language": "python",
   "name": "python3"
  },
  "language_info": {
   "codemirror_mode": {
    "name": "ipython",
    "version": 3
   },
   "file_extension": ".py",
   "mimetype": "text/x-python",
   "name": "python",
   "nbconvert_exporter": "python",
   "pygments_lexer": "ipython3",
   "version": "3.7.11"
  }
 },
 "nbformat": 4,
 "nbformat_minor": 4
}
