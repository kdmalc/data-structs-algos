{
 "cells": [
  {
   "cell_type": "markdown",
   "metadata": {},
   "source": [
    "# Numerical Programming\n",
    "Experiments with the NumPy Library"
   ]
  },
  {
   "cell_type": "code",
   "execution_count": 1,
   "metadata": {},
   "outputs": [],
   "source": [
    "import numpy as np"
   ]
  },
  {
   "cell_type": "code",
   "execution_count": 3,
   "metadata": {},
   "outputs": [],
   "source": [
    "arr1 = np.array([1, 2, 3, 4, 5])"
   ]
  },
  {
   "cell_type": "code",
   "execution_count": 4,
   "metadata": {},
   "outputs": [
    {
     "data": {
      "text/plain": [
       "numpy.ndarray"
      ]
     },
     "execution_count": 4,
     "metadata": {},
     "output_type": "execute_result"
    }
   ],
   "source": [
    "type(arr1)"
   ]
  },
  {
   "cell_type": "code",
   "execution_count": 6,
   "metadata": {},
   "outputs": [],
   "source": [
    "arr2 = np.array([\n",
    "    [1, 2, 3],\n",
    "    [4, 5, 6]\n",
    "])"
   ]
  },
  {
   "cell_type": "code",
   "execution_count": 8,
   "metadata": {},
   "outputs": [
    {
     "data": {
      "text/plain": [
       "numpy.ndarray"
      ]
     },
     "execution_count": 8,
     "metadata": {},
     "output_type": "execute_result"
    }
   ],
   "source": [
    "type(arr2)"
   ]
  },
  {
   "cell_type": "code",
   "execution_count": 9,
   "metadata": {},
   "outputs": [
    {
     "data": {
      "text/plain": [
       "1"
      ]
     },
     "execution_count": 9,
     "metadata": {},
     "output_type": "execute_result"
    }
   ],
   "source": [
    "arr1.ndim"
   ]
  },
  {
   "cell_type": "code",
   "execution_count": 10,
   "metadata": {},
   "outputs": [
    {
     "data": {
      "text/plain": [
       "2"
      ]
     },
     "execution_count": 10,
     "metadata": {},
     "output_type": "execute_result"
    }
   ],
   "source": [
    "arr2.ndim"
   ]
  },
  {
   "cell_type": "code",
   "execution_count": 11,
   "metadata": {},
   "outputs": [
    {
     "data": {
      "text/plain": [
       "3"
      ]
     },
     "execution_count": 11,
     "metadata": {},
     "output_type": "execute_result"
    }
   ],
   "source": [
    "arr1[2]"
   ]
  },
  {
   "cell_type": "code",
   "execution_count": 12,
   "metadata": {},
   "outputs": [
    {
     "data": {
      "text/plain": [
       "5"
      ]
     },
     "execution_count": 12,
     "metadata": {},
     "output_type": "execute_result"
    }
   ],
   "source": [
    "arr2[1, 1]"
   ]
  },
  {
   "cell_type": "code",
   "execution_count": 13,
   "metadata": {},
   "outputs": [
    {
     "data": {
      "text/plain": [
       "(2, 3)"
      ]
     },
     "execution_count": 13,
     "metadata": {},
     "output_type": "execute_result"
    }
   ],
   "source": [
    "arr2.shape"
   ]
  },
  {
   "cell_type": "code",
   "execution_count": 14,
   "metadata": {},
   "outputs": [
    {
     "data": {
      "text/plain": [
       "(5,)"
      ]
     },
     "execution_count": 14,
     "metadata": {},
     "output_type": "execute_result"
    }
   ],
   "source": [
    "arr1.shape"
   ]
  },
  {
   "cell_type": "code",
   "execution_count": 16,
   "metadata": {},
   "outputs": [
    {
     "data": {
      "text/plain": [
       "array([[0., 0., 0., ..., 0., 0., 0.],\n",
       "       [0., 0., 0., ..., 0., 0., 0.],\n",
       "       [0., 0., 0., ..., 0., 0., 0.],\n",
       "       ...,\n",
       "       [0., 0., 0., ..., 0., 0., 0.],\n",
       "       [0., 0., 0., ..., 0., 0., 0.],\n",
       "       [0., 0., 0., ..., 0., 0., 0.]])"
      ]
     },
     "execution_count": 16,
     "metadata": {},
     "output_type": "execute_result"
    }
   ],
   "source": [
    "np.zeros((5000, 4000))"
   ]
  },
  {
   "cell_type": "code",
   "execution_count": 17,
   "metadata": {},
   "outputs": [
    {
     "data": {
      "text/plain": [
       "array([[1., 1., 1., 1., 1., 1., 1.],\n",
       "       [1., 1., 1., 1., 1., 1., 1.],\n",
       "       [1., 1., 1., 1., 1., 1., 1.],\n",
       "       [1., 1., 1., 1., 1., 1., 1.],\n",
       "       [1., 1., 1., 1., 1., 1., 1.],\n",
       "       [1., 1., 1., 1., 1., 1., 1.]])"
      ]
     },
     "execution_count": 17,
     "metadata": {},
     "output_type": "execute_result"
    }
   ],
   "source": [
    "np.ones((6, 7))"
   ]
  },
  {
   "cell_type": "code",
   "execution_count": 18,
   "metadata": {},
   "outputs": [
    {
     "data": {
      "text/plain": [
       "array([[1, 1, 1, 1, 1, 1, 1],\n",
       "       [1, 1, 1, 1, 1, 1, 1],\n",
       "       [1, 1, 1, 1, 1, 1, 1],\n",
       "       [1, 1, 1, 1, 1, 1, 1],\n",
       "       [1, 1, 1, 1, 1, 1, 1],\n",
       "       [1, 1, 1, 1, 1, 1, 1]])"
      ]
     },
     "execution_count": 18,
     "metadata": {},
     "output_type": "execute_result"
    }
   ],
   "source": [
    "np.ones((6, 7), dtype=np.int)"
   ]
  },
  {
   "cell_type": "code",
   "execution_count": 19,
   "metadata": {},
   "outputs": [
    {
     "data": {
      "text/plain": [
       "array([[7, 7, 7, 7, 7, 7, 7],\n",
       "       [7, 7, 7, 7, 7, 7, 7],\n",
       "       [7, 7, 7, 7, 7, 7, 7],\n",
       "       [7, 7, 7, 7, 7, 7, 7],\n",
       "       [7, 7, 7, 7, 7, 7, 7],\n",
       "       [7, 7, 7, 7, 7, 7, 7]])"
      ]
     },
     "execution_count": 19,
     "metadata": {},
     "output_type": "execute_result"
    }
   ],
   "source": [
    "np.full((6, 7), 7)"
   ]
  },
  {
   "cell_type": "code",
   "execution_count": 20,
   "metadata": {},
   "outputs": [
    {
     "data": {
      "text/plain": [
       "array([[7., 7., 7., 7., 7., 7., 7.],\n",
       "       [7., 7., 7., 7., 7., 7., 7.],\n",
       "       [7., 7., 7., 7., 7., 7., 7.],\n",
       "       [7., 7., 7., 7., 7., 7., 7.],\n",
       "       [7., 7., 7., 7., 7., 7., 7.],\n",
       "       [7., 7., 7., 7., 7., 7., 7.]])"
      ]
     },
     "execution_count": 20,
     "metadata": {},
     "output_type": "execute_result"
    }
   ],
   "source": [
    "np.ones((6, 7)) * 7"
   ]
  },
  {
   "cell_type": "code",
   "execution_count": 21,
   "metadata": {},
   "outputs": [],
   "source": [
    "arr3 = np.ones((3, 4))"
   ]
  },
  {
   "cell_type": "code",
   "execution_count": 24,
   "metadata": {},
   "outputs": [],
   "source": [
    "arr4 = np.zeros_like(arr3)"
   ]
  },
  {
   "cell_type": "code",
   "execution_count": 25,
   "metadata": {},
   "outputs": [
    {
     "data": {
      "text/plain": [
       "array([[0., 0., 0., 0.],\n",
       "       [0., 0., 0., 0.],\n",
       "       [0., 0., 0., 0.]])"
      ]
     },
     "execution_count": 25,
     "metadata": {},
     "output_type": "execute_result"
    }
   ],
   "source": [
    "arr4"
   ]
  },
  {
   "cell_type": "code",
   "execution_count": 28,
   "metadata": {},
   "outputs": [],
   "source": [
    "arr5 = np.empty((12, 15))"
   ]
  },
  {
   "cell_type": "code",
   "execution_count": 29,
   "metadata": {},
   "outputs": [
    {
     "data": {
      "text/plain": [
       "array([[ 0.00000000e+000,  9.09080788e-322,  0.00000000e+000,\n",
       "         6.93496754e-310,  0.00000000e+000,  0.00000000e+000,\n",
       "                     nan,  0.00000000e+000,  7.92574498e-135,\n",
       "         0.00000000e+000,  4.44659081e-323,  6.93496850e-310,\n",
       "         6.93496104e-310,              nan,  0.00000000e+000],\n",
       "       [             nan,  6.93492808e-310,  6.93489444e-310,\n",
       "         3.55727265e-322,  3.45845952e-323,  6.93496850e-310,\n",
       "         6.93496104e-310,  0.00000000e+000,  4.94065646e-324,\n",
       "         4.94065646e-324,  6.93492808e-310,  6.93489444e-310,\n",
       "         7.11454530e-322,  1.48219694e-323,  6.93496850e-310],\n",
       "       [ 6.93496104e-310,  0.00000000e+000,  4.94065646e-324,\n",
       "         4.94065646e-324,  4.94065646e-323,  4.94065646e-324,\n",
       "         1.06718180e-321,  4.44659081e-323,  6.93496850e-310,\n",
       "         6.93496104e-310,  0.00000000e+000,  1.97626258e-323,\n",
       "         4.94065646e-324,  0.00000000e+000,  6.93489444e-310],\n",
       "       [ 1.42290906e-321,  4.44659081e-323,  6.93496850e-310,\n",
       "         6.93496104e-310,  1.97626258e-323,  1.97626258e-323,\n",
       "         4.94065646e-324,  0.00000000e+000,  6.93489444e-310,\n",
       "         1.77863633e-321,  4.44659081e-323,  6.93496850e-310,\n",
       "         6.93496104e-310,  0.00000000e+000,  2.96439388e-323],\n",
       "       [ 1.48219694e-323,  0.00000000e+000,  4.94065646e-324,\n",
       "         2.13436359e-321,  5.43472210e-323,  6.93496850e-310,\n",
       "         6.93496104e-310,  1.03753786e-322,  2.96439388e-323,\n",
       "         1.48219694e-323,  6.93492808e-310,  6.93489444e-310,\n",
       "         2.49009086e-321,  4.94065646e-323,  6.93496850e-310],\n",
       "       [ 6.93496104e-310,  0.00000000e+000,  0.00000000e+000,\n",
       "         0.00000000e+000,  0.00000000e+000,  4.94065646e-324,\n",
       "         0.00000000e+000,  6.93496850e-310,  0.00000000e+000,\n",
       "         6.93496850e-310,  0.00000000e+000,  6.93496850e-310,\n",
       "         0.00000000e+000,  6.93496850e-310,  0.00000000e+000],\n",
       "       [ 2.49009086e-321,  9.88131292e-324,  6.93496850e-310,\n",
       "         6.93496167e-310,  0.00000000e+000,  7.90505033e-323,\n",
       "                     nan,  0.00000000e+000,  6.93489444e-310,\n",
       "         3.55727265e-321,  4.44659081e-323,  6.93496850e-310,\n",
       "         6.93496167e-310,  4.94065646e-324,  7.90505033e-323],\n",
       "       [             nan,  6.93492808e-310,  6.93489444e-310,\n",
       "         6.93496850e-310,  0.00000000e+000,  0.00000000e+000,\n",
       "         0.00000000e+000,  0.00000000e+000,  0.00000000e+000,\n",
       "         0.00000000e+000,  0.00000000e+000,  0.00000000e+000,\n",
       "         0.00000000e+000,  6.93496850e-310,  0.00000000e+000],\n",
       "       [ 6.93496850e-310,  0.00000000e+000,  6.93496850e-310,\n",
       "         0.00000000e+000,  6.93496850e-310,  6.93496850e-310,\n",
       "         3.91299992e-321,  9.88131292e-324,  6.93496850e-310,\n",
       "         6.93496167e-310,  0.00000000e+000,  7.90505033e-323,\n",
       "                     nan,  4.33433001e-311,  6.93489444e-310],\n",
       "       [ 6.93496824e-310,  4.33433001e-311,  6.93492802e-310,\n",
       "         6.93496824e-310,  6.93494140e-310,  6.93494140e-310,\n",
       "         6.93494140e-310,  6.93494140e-310,  6.93494140e-310,\n",
       "         6.93494140e-310,  6.93494140e-310,  6.93494140e-310,\n",
       "         6.93494140e-310,  6.93494140e-310,  6.93494140e-310],\n",
       "       [ 6.93494141e-310,  6.93494141e-310,  6.93494141e-310,\n",
       "         6.93494141e-310,  6.93494141e-310,  6.93494141e-310,\n",
       "         6.93494141e-310,  6.93494141e-310,  6.93494141e-310,\n",
       "         6.93494141e-310,  6.93494141e-310,  6.93494141e-310,\n",
       "         6.93494141e-310,  6.93494141e-310,  6.93494141e-310],\n",
       "       [ 6.93494141e-310,  6.93494141e-310,  6.93494141e-310,\n",
       "         6.93494141e-310,  6.93494141e-310,  6.93494141e-310,\n",
       "         6.93494141e-310,  6.93494141e-310,  6.93495414e-310,\n",
       "        -9.32456972e+297,  6.93495414e-310,  6.93495414e-310,\n",
       "        -5.23507242e-278,  6.93495414e-310,  6.93495414e-310]])"
      ]
     },
     "execution_count": 29,
     "metadata": {},
     "output_type": "execute_result"
    }
   ],
   "source": [
    "arr5"
   ]
  },
  {
   "cell_type": "code",
   "execution_count": 30,
   "metadata": {},
   "outputs": [
    {
     "data": {
      "text/plain": [
       "array([ 0,  1,  2,  3,  4,  5,  6,  7,  8,  9, 10, 11, 12, 13, 14])"
      ]
     },
     "execution_count": 30,
     "metadata": {},
     "output_type": "execute_result"
    }
   ],
   "source": [
    "np.arange(15)"
   ]
  },
  {
   "cell_type": "code",
   "execution_count": 31,
   "metadata": {},
   "outputs": [
    {
     "data": {
      "text/plain": [
       "array([[ 0,  1,  2,  3,  4],\n",
       "       [ 5,  6,  7,  8,  9],\n",
       "       [10, 11, 12, 13, 14]])"
      ]
     },
     "execution_count": 31,
     "metadata": {},
     "output_type": "execute_result"
    }
   ],
   "source": [
    "np.arange(15).reshape((3, 5))"
   ]
  },
  {
   "cell_type": "code",
   "execution_count": 32,
   "metadata": {},
   "outputs": [
    {
     "data": {
      "text/plain": [
       "array([[ 0,  1,  2],\n",
       "       [ 3,  4,  5],\n",
       "       [ 6,  7,  8],\n",
       "       [ 9, 10, 11],\n",
       "       [12, 13, 14]])"
      ]
     },
     "execution_count": 32,
     "metadata": {},
     "output_type": "execute_result"
    }
   ],
   "source": [
    "np.arange(15).reshape((5, 3))"
   ]
  },
  {
   "cell_type": "code",
   "execution_count": 33,
   "metadata": {},
   "outputs": [
    {
     "data": {
      "text/plain": [
       "array([[ 0,  1,  2,  3,  4,  5,  6,  7,  8,  9, 10, 11, 12, 13, 14]])"
      ]
     },
     "execution_count": 33,
     "metadata": {},
     "output_type": "execute_result"
    }
   ],
   "source": [
    "np.arange(15).reshape((1, 15))"
   ]
  },
  {
   "cell_type": "code",
   "execution_count": 34,
   "metadata": {},
   "outputs": [
    {
     "data": {
      "text/plain": [
       "array([[ 0],\n",
       "       [ 1],\n",
       "       [ 2],\n",
       "       [ 3],\n",
       "       [ 4],\n",
       "       [ 5],\n",
       "       [ 6],\n",
       "       [ 7],\n",
       "       [ 8],\n",
       "       [ 9],\n",
       "       [10],\n",
       "       [11],\n",
       "       [12],\n",
       "       [13],\n",
       "       [14]])"
      ]
     },
     "execution_count": 34,
     "metadata": {},
     "output_type": "execute_result"
    }
   ],
   "source": [
    "np.arange(15).reshape((15, 1))"
   ]
  },
  {
   "cell_type": "code",
   "execution_count": 35,
   "metadata": {},
   "outputs": [
    {
     "ename": "ValueError",
     "evalue": "cannot reshape array of size 15 into shape (3,4)",
     "output_type": "error",
     "traceback": [
      "\u001b[0;31m---------------------------------------------------------------------------\u001b[0m",
      "\u001b[0;31mValueError\u001b[0m                                Traceback (most recent call last)",
      "\u001b[0;32m<ipython-input-35-9d201199ffba>\u001b[0m in \u001b[0;36m<module>\u001b[0;34m\u001b[0m\n\u001b[0;32m----> 1\u001b[0;31m \u001b[0mnp\u001b[0m\u001b[0;34m.\u001b[0m\u001b[0marange\u001b[0m\u001b[0;34m(\u001b[0m\u001b[0;36m15\u001b[0m\u001b[0;34m)\u001b[0m\u001b[0;34m.\u001b[0m\u001b[0mreshape\u001b[0m\u001b[0;34m(\u001b[0m\u001b[0;34m(\u001b[0m\u001b[0;36m3\u001b[0m\u001b[0;34m,\u001b[0m \u001b[0;36m4\u001b[0m\u001b[0;34m)\u001b[0m\u001b[0;34m)\u001b[0m\u001b[0;34m\u001b[0m\u001b[0;34m\u001b[0m\u001b[0m\n\u001b[0m",
      "\u001b[0;31mValueError\u001b[0m: cannot reshape array of size 15 into shape (3,4)"
     ]
    }
   ],
   "source": [
    "np.arange(15).reshape((3, 4))"
   ]
  },
  {
   "cell_type": "code",
   "execution_count": 36,
   "metadata": {},
   "outputs": [
    {
     "data": {
      "text/plain": [
       "array([ 1,  3,  5,  7,  9, 11, 13])"
      ]
     },
     "execution_count": 36,
     "metadata": {},
     "output_type": "execute_result"
    }
   ],
   "source": [
    "np.arange(1, 15, 2)"
   ]
  },
  {
   "cell_type": "code",
   "execution_count": 37,
   "metadata": {},
   "outputs": [
    {
     "data": {
      "text/plain": [
       "array([ 0.        ,  0.20408163,  0.40816327,  0.6122449 ,  0.81632653,\n",
       "        1.02040816,  1.2244898 ,  1.42857143,  1.63265306,  1.83673469,\n",
       "        2.04081633,  2.24489796,  2.44897959,  2.65306122,  2.85714286,\n",
       "        3.06122449,  3.26530612,  3.46938776,  3.67346939,  3.87755102,\n",
       "        4.08163265,  4.28571429,  4.48979592,  4.69387755,  4.89795918,\n",
       "        5.10204082,  5.30612245,  5.51020408,  5.71428571,  5.91836735,\n",
       "        6.12244898,  6.32653061,  6.53061224,  6.73469388,  6.93877551,\n",
       "        7.14285714,  7.34693878,  7.55102041,  7.75510204,  7.95918367,\n",
       "        8.16326531,  8.36734694,  8.57142857,  8.7755102 ,  8.97959184,\n",
       "        9.18367347,  9.3877551 ,  9.59183673,  9.79591837, 10.        ])"
      ]
     },
     "execution_count": 37,
     "metadata": {},
     "output_type": "execute_result"
    }
   ],
   "source": [
    "np.linspace(0, 10, 50)"
   ]
  },
  {
   "cell_type": "code",
   "execution_count": 38,
   "metadata": {},
   "outputs": [
    {
     "data": {
      "text/plain": [
       "array([[0.29213497, 0.0172707 , 0.76800225, 0.7325933 , 0.41396906],\n",
       "       [0.38851631, 0.50301522, 0.84059812, 0.65102604, 0.48350105],\n",
       "       [0.7358468 , 0.69835701, 0.13512714, 0.36567737, 0.06881306],\n",
       "       [0.63667016, 0.16416694, 0.5724624 , 0.26665057, 0.5450152 ]])"
      ]
     },
     "execution_count": 38,
     "metadata": {},
     "output_type": "execute_result"
    }
   ],
   "source": [
    "np.random.random((4, 5))"
   ]
  },
  {
   "cell_type": "code",
   "execution_count": 39,
   "metadata": {},
   "outputs": [
    {
     "data": {
      "text/plain": [
       "array([[ 0.876505  ,  1.53763588,  0.55386646, -1.91334306,  0.12810274],\n",
       "       [ 1.7294123 ,  0.32998962, -0.32953604, -1.147443  ,  0.19672571],\n",
       "       [ 0.55596624,  0.62031672, -2.26146443, -0.85269613, -0.57865789],\n",
       "       [ 0.23961628,  0.69519807,  0.15990053,  1.01900085,  0.78845602]])"
      ]
     },
     "execution_count": 39,
     "metadata": {},
     "output_type": "execute_result"
    }
   ],
   "source": [
    "np.random.standard_normal((4, 5))"
   ]
  },
  {
   "cell_type": "code",
   "execution_count": 41,
   "metadata": {},
   "outputs": [
    {
     "data": {
      "text/plain": [
       "array([[ 7,  1,  1,  1, 13],\n",
       "       [13, 13, 13,  7,  1],\n",
       "       [13,  3, 13,  1,  3],\n",
       "       [ 7,  3,  1,  7, 13]])"
      ]
     },
     "execution_count": 41,
     "metadata": {},
     "output_type": "execute_result"
    }
   ],
   "source": [
    "np.random.choice([1, 3, 7, 13], size=(4, 5))"
   ]
  },
  {
   "cell_type": "code",
   "execution_count": 44,
   "metadata": {},
   "outputs": [
    {
     "data": {
      "text/plain": [
       "3.14169056"
      ]
     },
     "execution_count": 44,
     "metadata": {},
     "output_type": "execute_result"
    }
   ],
   "source": [
    "np.mean(np.sum((np.random.random((100_000_000, 2)) ** 2), axis=1) < 1) * 4"
   ]
  },
  {
   "cell_type": "code",
   "execution_count": 48,
   "metadata": {},
   "outputs": [],
   "source": [
    "arr = np.array([\n",
    "    [1.0, 2.0, 3.0, 4.0],\n",
    "    [1.0, 2.0, 3.0, 4.0]\n",
    "])"
   ]
  },
  {
   "cell_type": "code",
   "execution_count": 49,
   "metadata": {},
   "outputs": [
    {
     "data": {
      "text/plain": [
       "dtype('float64')"
      ]
     },
     "execution_count": 49,
     "metadata": {},
     "output_type": "execute_result"
    }
   ],
   "source": [
    "arr.dtype"
   ]
  },
  {
   "cell_type": "code",
   "execution_count": 50,
   "metadata": {},
   "outputs": [
    {
     "data": {
      "text/plain": [
       "8"
      ]
     },
     "execution_count": 50,
     "metadata": {},
     "output_type": "execute_result"
    }
   ],
   "source": [
    "arr.itemsize"
   ]
  },
  {
   "cell_type": "code",
   "execution_count": 51,
   "metadata": {},
   "outputs": [
    {
     "data": {
      "text/plain": [
       "8"
      ]
     },
     "execution_count": 51,
     "metadata": {},
     "output_type": "execute_result"
    }
   ],
   "source": [
    "arr.size"
   ]
  },
  {
   "cell_type": "code",
   "execution_count": 52,
   "metadata": {},
   "outputs": [
    {
     "data": {
      "text/plain": [
       "64"
      ]
     },
     "execution_count": 52,
     "metadata": {},
     "output_type": "execute_result"
    }
   ],
   "source": [
    "arr.nbytes"
   ]
  },
  {
   "cell_type": "code",
   "execution_count": 53,
   "metadata": {},
   "outputs": [
    {
     "data": {
      "text/plain": [
       "2"
      ]
     },
     "execution_count": 53,
     "metadata": {},
     "output_type": "execute_result"
    }
   ],
   "source": [
    "arr.ndim"
   ]
  },
  {
   "cell_type": "code",
   "execution_count": 54,
   "metadata": {},
   "outputs": [
    {
     "data": {
      "text/plain": [
       "(2, 4)"
      ]
     },
     "execution_count": 54,
     "metadata": {},
     "output_type": "execute_result"
    }
   ],
   "source": [
    "arr.shape"
   ]
  },
  {
   "cell_type": "code",
   "execution_count": 55,
   "metadata": {},
   "outputs": [
    {
     "data": {
      "text/plain": [
       "(32, 8)"
      ]
     },
     "execution_count": 55,
     "metadata": {},
     "output_type": "execute_result"
    }
   ],
   "source": [
    "arr.strides"
   ]
  },
  {
   "cell_type": "code",
   "execution_count": 56,
   "metadata": {},
   "outputs": [],
   "source": [
    "arr2 = arr.T"
   ]
  },
  {
   "cell_type": "code",
   "execution_count": 57,
   "metadata": {},
   "outputs": [
    {
     "data": {
      "text/plain": [
       "array([[1., 2., 3., 4.],\n",
       "       [1., 2., 3., 4.]])"
      ]
     },
     "execution_count": 57,
     "metadata": {},
     "output_type": "execute_result"
    }
   ],
   "source": [
    "arr"
   ]
  },
  {
   "cell_type": "code",
   "execution_count": 58,
   "metadata": {},
   "outputs": [
    {
     "data": {
      "text/plain": [
       "array([[1., 1.],\n",
       "       [2., 2.],\n",
       "       [3., 3.],\n",
       "       [4., 4.]])"
      ]
     },
     "execution_count": 58,
     "metadata": {},
     "output_type": "execute_result"
    }
   ],
   "source": [
    "arr2"
   ]
  },
  {
   "cell_type": "code",
   "execution_count": 61,
   "metadata": {},
   "outputs": [],
   "source": [
    "arr[0, 0] = 99"
   ]
  },
  {
   "cell_type": "code",
   "execution_count": 62,
   "metadata": {},
   "outputs": [
    {
     "data": {
      "text/plain": [
       "array([[99.,  2.,  3.,  4.],\n",
       "       [ 1.,  2.,  3.,  4.]])"
      ]
     },
     "execution_count": 62,
     "metadata": {},
     "output_type": "execute_result"
    }
   ],
   "source": [
    "arr"
   ]
  },
  {
   "cell_type": "code",
   "execution_count": 63,
   "metadata": {},
   "outputs": [
    {
     "data": {
      "text/plain": [
       "array([[99.,  1.],\n",
       "       [ 2.,  2.],\n",
       "       [ 3.,  3.],\n",
       "       [ 4.,  4.]])"
      ]
     },
     "execution_count": 63,
     "metadata": {},
     "output_type": "execute_result"
    }
   ],
   "source": [
    "arr2"
   ]
  },
  {
   "cell_type": "code",
   "execution_count": 64,
   "metadata": {},
   "outputs": [
    {
     "data": {
      "text/plain": [
       "(140365327795024, 140364509815072)"
      ]
     },
     "execution_count": 64,
     "metadata": {},
     "output_type": "execute_result"
    }
   ],
   "source": [
    "id(arr), id(arr2)"
   ]
  },
  {
   "cell_type": "code",
   "execution_count": 65,
   "metadata": {},
   "outputs": [
    {
     "data": {
      "text/plain": [
       "(32, 8)"
      ]
     },
     "execution_count": 65,
     "metadata": {},
     "output_type": "execute_result"
    }
   ],
   "source": [
    "arr.strides"
   ]
  },
  {
   "cell_type": "code",
   "execution_count": 66,
   "metadata": {},
   "outputs": [
    {
     "data": {
      "text/plain": [
       "(8, 32)"
      ]
     },
     "execution_count": 66,
     "metadata": {},
     "output_type": "execute_result"
    }
   ],
   "source": [
    "arr2.strides"
   ]
  },
  {
   "cell_type": "code",
   "execution_count": 67,
   "metadata": {},
   "outputs": [
    {
     "data": {
      "text/plain": [
       "  C_CONTIGUOUS : True\n",
       "  F_CONTIGUOUS : False\n",
       "  OWNDATA : True\n",
       "  WRITEABLE : True\n",
       "  ALIGNED : True\n",
       "  WRITEBACKIFCOPY : False\n",
       "  UPDATEIFCOPY : False"
      ]
     },
     "execution_count": 67,
     "metadata": {},
     "output_type": "execute_result"
    }
   ],
   "source": [
    "arr.flags"
   ]
  },
  {
   "cell_type": "code",
   "execution_count": 68,
   "metadata": {},
   "outputs": [
    {
     "data": {
      "text/plain": [
       "  C_CONTIGUOUS : False\n",
       "  F_CONTIGUOUS : True\n",
       "  OWNDATA : False\n",
       "  WRITEABLE : True\n",
       "  ALIGNED : True\n",
       "  WRITEBACKIFCOPY : False\n",
       "  UPDATEIFCOPY : False"
      ]
     },
     "execution_count": 68,
     "metadata": {},
     "output_type": "execute_result"
    }
   ],
   "source": [
    "arr2.flags"
   ]
  },
  {
   "cell_type": "code",
   "execution_count": 70,
   "metadata": {},
   "outputs": [
    {
     "data": {
      "text/plain": [
       "True"
      ]
     },
     "execution_count": 70,
     "metadata": {},
     "output_type": "execute_result"
    }
   ],
   "source": [
    "arr.base is None"
   ]
  },
  {
   "cell_type": "code",
   "execution_count": 72,
   "metadata": {},
   "outputs": [
    {
     "data": {
      "text/plain": [
       "True"
      ]
     },
     "execution_count": 72,
     "metadata": {},
     "output_type": "execute_result"
    }
   ],
   "source": [
    "arr2.base is arr"
   ]
  },
  {
   "cell_type": "code",
   "execution_count": 73,
   "metadata": {},
   "outputs": [],
   "source": [
    "i_arr = np.ones((3, 3), dtype=np.int8)"
   ]
  },
  {
   "cell_type": "code",
   "execution_count": 74,
   "metadata": {},
   "outputs": [
    {
     "data": {
      "text/plain": [
       "array([[1, 1, 1],\n",
       "       [1, 1, 1],\n",
       "       [1, 1, 1]], dtype=int8)"
      ]
     },
     "execution_count": 74,
     "metadata": {},
     "output_type": "execute_result"
    }
   ],
   "source": [
    "i_arr"
   ]
  },
  {
   "cell_type": "code",
   "execution_count": 75,
   "metadata": {},
   "outputs": [],
   "source": [
    "i_arr[0, 0] = 7"
   ]
  },
  {
   "cell_type": "code",
   "execution_count": 76,
   "metadata": {},
   "outputs": [
    {
     "data": {
      "text/plain": [
       "array([[7, 1, 1],\n",
       "       [1, 1, 1],\n",
       "       [1, 1, 1]], dtype=int8)"
      ]
     },
     "execution_count": 76,
     "metadata": {},
     "output_type": "execute_result"
    }
   ],
   "source": [
    "i_arr"
   ]
  },
  {
   "cell_type": "code",
   "execution_count": 77,
   "metadata": {},
   "outputs": [],
   "source": [
    "i_arr[0, 0] = 2020"
   ]
  },
  {
   "cell_type": "code",
   "execution_count": 78,
   "metadata": {},
   "outputs": [
    {
     "data": {
      "text/plain": [
       "array([[-28,   1,   1],\n",
       "       [  1,   1,   1],\n",
       "       [  1,   1,   1]], dtype=int8)"
      ]
     },
     "execution_count": 78,
     "metadata": {},
     "output_type": "execute_result"
    }
   ],
   "source": [
    "i_arr"
   ]
  },
  {
   "cell_type": "code",
   "execution_count": 79,
   "metadata": {},
   "outputs": [],
   "source": [
    "i_arr = np.ones((3, 3), dtype=np.int64)"
   ]
  },
  {
   "cell_type": "code",
   "execution_count": 80,
   "metadata": {},
   "outputs": [],
   "source": [
    "i_arr[0, 0]  = 1321893089021834"
   ]
  },
  {
   "cell_type": "code",
   "execution_count": 81,
   "metadata": {},
   "outputs": [
    {
     "data": {
      "text/plain": [
       "array([[1321893089021834,                1,                1],\n",
       "       [               1,                1,                1],\n",
       "       [               1,                1,                1]])"
      ]
     },
     "execution_count": 81,
     "metadata": {},
     "output_type": "execute_result"
    }
   ],
   "source": [
    "i_arr"
   ]
  },
  {
   "cell_type": "code",
   "execution_count": 82,
   "metadata": {},
   "outputs": [],
   "source": [
    "cmpx = 1+1j"
   ]
  },
  {
   "cell_type": "code",
   "execution_count": 83,
   "metadata": {},
   "outputs": [
    {
     "data": {
      "text/plain": [
       "complex"
      ]
     },
     "execution_count": 83,
     "metadata": {},
     "output_type": "execute_result"
    }
   ],
   "source": [
    "type(cmpx)"
   ]
  },
  {
   "cell_type": "code",
   "execution_count": 85,
   "metadata": {},
   "outputs": [],
   "source": [
    "cmplx = np.zeros((2, 3), dtype=np.complex128)"
   ]
  },
  {
   "cell_type": "code",
   "execution_count": 86,
   "metadata": {},
   "outputs": [],
   "source": [
    "cmplx[0, 0] = 1+1j"
   ]
  },
  {
   "cell_type": "code",
   "execution_count": 87,
   "metadata": {},
   "outputs": [
    {
     "data": {
      "text/plain": [
       "array([[1.+1.j, 0.+0.j, 0.+0.j],\n",
       "       [0.+0.j, 0.+0.j, 0.+0.j]])"
      ]
     },
     "execution_count": 87,
     "metadata": {},
     "output_type": "execute_result"
    }
   ],
   "source": [
    "cmplx"
   ]
  },
  {
   "cell_type": "code",
   "execution_count": 88,
   "metadata": {},
   "outputs": [],
   "source": [
    "vec = np.arange(5)"
   ]
  },
  {
   "cell_type": "code",
   "execution_count": 89,
   "metadata": {},
   "outputs": [
    {
     "data": {
      "text/plain": [
       "array([0, 1, 2, 3, 4])"
      ]
     },
     "execution_count": 89,
     "metadata": {},
     "output_type": "execute_result"
    }
   ],
   "source": [
    "vec"
   ]
  },
  {
   "cell_type": "code",
   "execution_count": 90,
   "metadata": {},
   "outputs": [
    {
     "data": {
      "text/plain": [
       "(5,)"
      ]
     },
     "execution_count": 90,
     "metadata": {},
     "output_type": "execute_result"
    }
   ],
   "source": [
    "vec.shape"
   ]
  },
  {
   "cell_type": "code",
   "execution_count": 91,
   "metadata": {},
   "outputs": [],
   "source": [
    "m1 = vec.reshape((1, 5))"
   ]
  },
  {
   "cell_type": "code",
   "execution_count": 92,
   "metadata": {},
   "outputs": [
    {
     "data": {
      "text/plain": [
       "(1, 5)"
      ]
     },
     "execution_count": 92,
     "metadata": {},
     "output_type": "execute_result"
    }
   ],
   "source": [
    "m1.shape"
   ]
  },
  {
   "cell_type": "code",
   "execution_count": 93,
   "metadata": {},
   "outputs": [],
   "source": [
    "m2 = vec.reshape((5, 1))"
   ]
  },
  {
   "cell_type": "code",
   "execution_count": 94,
   "metadata": {},
   "outputs": [
    {
     "data": {
      "text/plain": [
       "(5, 1)"
      ]
     },
     "execution_count": 94,
     "metadata": {},
     "output_type": "execute_result"
    }
   ],
   "source": [
    "m2.shape"
   ]
  },
  {
   "cell_type": "code",
   "execution_count": 95,
   "metadata": {},
   "outputs": [
    {
     "data": {
      "text/plain": [
       "array([0, 1, 2, 3, 4])"
      ]
     },
     "execution_count": 95,
     "metadata": {},
     "output_type": "execute_result"
    }
   ],
   "source": [
    "vec"
   ]
  },
  {
   "cell_type": "code",
   "execution_count": 96,
   "metadata": {},
   "outputs": [
    {
     "data": {
      "text/plain": [
       "array([[0, 1, 2, 3, 4]])"
      ]
     },
     "execution_count": 96,
     "metadata": {},
     "output_type": "execute_result"
    }
   ],
   "source": [
    "m1"
   ]
  },
  {
   "cell_type": "code",
   "execution_count": 97,
   "metadata": {},
   "outputs": [
    {
     "data": {
      "text/plain": [
       "array([[0],\n",
       "       [1],\n",
       "       [2],\n",
       "       [3],\n",
       "       [4]])"
      ]
     },
     "execution_count": 97,
     "metadata": {},
     "output_type": "execute_result"
    }
   ],
   "source": [
    "m2"
   ]
  },
  {
   "cell_type": "code",
   "execution_count": 98,
   "metadata": {},
   "outputs": [],
   "source": [
    "arr7 = np.random.random((2, 3, 4))"
   ]
  },
  {
   "cell_type": "code",
   "execution_count": 99,
   "metadata": {},
   "outputs": [
    {
     "data": {
      "text/plain": [
       "array([[[0.92711651, 0.11094163, 0.18969629, 0.27351921],\n",
       "        [0.39131438, 0.27242934, 0.0245779 , 0.16886894],\n",
       "        [0.66516099, 0.34094283, 0.35414849, 0.18277568]],\n",
       "\n",
       "       [[0.7641911 , 0.6654509 , 0.67763465, 0.258981  ],\n",
       "        [0.77157326, 0.71451556, 0.69890118, 0.04450078],\n",
       "        [0.87822473, 0.7114911 , 0.56043023, 0.91892352]]])"
      ]
     },
     "execution_count": 99,
     "metadata": {},
     "output_type": "execute_result"
    }
   ],
   "source": [
    "arr7"
   ]
  },
  {
   "cell_type": "code",
   "execution_count": 100,
   "metadata": {},
   "outputs": [
    {
     "data": {
      "text/plain": [
       "array([0.92711651, 0.11094163, 0.18969629, 0.27351921, 0.39131438,\n",
       "       0.27242934, 0.0245779 , 0.16886894, 0.66516099, 0.34094283,\n",
       "       0.35414849, 0.18277568, 0.7641911 , 0.6654509 , 0.67763465,\n",
       "       0.258981  , 0.77157326, 0.71451556, 0.69890118, 0.04450078,\n",
       "       0.87822473, 0.7114911 , 0.56043023, 0.91892352])"
      ]
     },
     "execution_count": 100,
     "metadata": {},
     "output_type": "execute_result"
    }
   ],
   "source": [
    "arr7.reshape((24,))"
   ]
  },
  {
   "cell_type": "code",
   "execution_count": 101,
   "metadata": {},
   "outputs": [
    {
     "data": {
      "text/plain": [
       "array([[0.92711651, 0.11094163, 0.18969629],\n",
       "       [0.27351921, 0.39131438, 0.27242934],\n",
       "       [0.0245779 , 0.16886894, 0.66516099],\n",
       "       [0.34094283, 0.35414849, 0.18277568],\n",
       "       [0.7641911 , 0.6654509 , 0.67763465],\n",
       "       [0.258981  , 0.77157326, 0.71451556],\n",
       "       [0.69890118, 0.04450078, 0.87822473],\n",
       "       [0.7114911 , 0.56043023, 0.91892352]])"
      ]
     },
     "execution_count": 101,
     "metadata": {},
     "output_type": "execute_result"
    }
   ],
   "source": [
    "arr7.reshape((8, -1))"
   ]
  },
  {
   "cell_type": "code",
   "execution_count": 102,
   "metadata": {},
   "outputs": [
    {
     "data": {
      "text/plain": [
       "array([[0.92711651, 0.11094163, 0.18969629, 0.27351921, 0.39131438,\n",
       "        0.27242934, 0.0245779 , 0.16886894],\n",
       "       [0.66516099, 0.34094283, 0.35414849, 0.18277568, 0.7641911 ,\n",
       "        0.6654509 , 0.67763465, 0.258981  ],\n",
       "       [0.77157326, 0.71451556, 0.69890118, 0.04450078, 0.87822473,\n",
       "        0.7114911 , 0.56043023, 0.91892352]])"
      ]
     },
     "execution_count": 102,
     "metadata": {},
     "output_type": "execute_result"
    }
   ],
   "source": [
    "arr7.reshape((-1, 8))"
   ]
  },
  {
   "cell_type": "code",
   "execution_count": 103,
   "metadata": {},
   "outputs": [
    {
     "ename": "ValueError",
     "evalue": "cannot reshape array of size 24 into shape (7)",
     "output_type": "error",
     "traceback": [
      "\u001b[0;31m---------------------------------------------------------------------------\u001b[0m",
      "\u001b[0;31mValueError\u001b[0m                                Traceback (most recent call last)",
      "\u001b[0;32m<ipython-input-103-fcf00a57a51f>\u001b[0m in \u001b[0;36m<module>\u001b[0;34m\u001b[0m\n\u001b[0;32m----> 1\u001b[0;31m \u001b[0marr7\u001b[0m\u001b[0;34m.\u001b[0m\u001b[0mreshape\u001b[0m\u001b[0;34m(\u001b[0m\u001b[0;34m(\u001b[0m\u001b[0;34m-\u001b[0m\u001b[0;36m1\u001b[0m\u001b[0;34m,\u001b[0m \u001b[0;36m7\u001b[0m\u001b[0;34m)\u001b[0m\u001b[0;34m)\u001b[0m\u001b[0;34m\u001b[0m\u001b[0;34m\u001b[0m\u001b[0m\n\u001b[0m",
      "\u001b[0;31mValueError\u001b[0m: cannot reshape array of size 24 into shape (7)"
     ]
    }
   ],
   "source": [
    "arr7.reshape((-1, 7))"
   ]
  },
  {
   "cell_type": "code",
   "execution_count": 104,
   "metadata": {},
   "outputs": [
    {
     "data": {
      "text/plain": [
       "array([0, 1, 2, 3, 4])"
      ]
     },
     "execution_count": 104,
     "metadata": {},
     "output_type": "execute_result"
    }
   ],
   "source": [
    "vec"
   ]
  },
  {
   "cell_type": "code",
   "execution_count": 105,
   "metadata": {},
   "outputs": [
    {
     "data": {
      "text/plain": [
       "array([[[0]],\n",
       "\n",
       "       [[1]],\n",
       "\n",
       "       [[2]],\n",
       "\n",
       "       [[3]],\n",
       "\n",
       "       [[4]]])"
      ]
     },
     "execution_count": 105,
     "metadata": {},
     "output_type": "execute_result"
    }
   ],
   "source": [
    "vec.reshape((5, 1, 1))"
   ]
  },
  {
   "cell_type": "code",
   "execution_count": 108,
   "metadata": {},
   "outputs": [
    {
     "data": {
      "text/plain": [
       "array([[[0],\n",
       "        [1],\n",
       "        [2],\n",
       "        [3],\n",
       "        [4]]])"
      ]
     },
     "execution_count": 108,
     "metadata": {},
     "output_type": "execute_result"
    }
   ],
   "source": [
    "vec[np.newaxis, :, np.newaxis]"
   ]
  },
  {
   "cell_type": "code",
   "execution_count": 109,
   "metadata": {},
   "outputs": [
    {
     "data": {
      "text/plain": [
       "array([[[0],\n",
       "        [1],\n",
       "        [2],\n",
       "        [3],\n",
       "        [4]]])"
      ]
     },
     "execution_count": 109,
     "metadata": {},
     "output_type": "execute_result"
    }
   ],
   "source": [
    "vec.reshape((1, -1, 1))"
   ]
  },
  {
   "cell_type": "code",
   "execution_count": 110,
   "metadata": {},
   "outputs": [
    {
     "data": {
      "text/plain": [
       "array([[[[[0]]],\n",
       "\n",
       "\n",
       "        [[[1]]],\n",
       "\n",
       "\n",
       "        [[[2]]],\n",
       "\n",
       "\n",
       "        [[[3]]],\n",
       "\n",
       "\n",
       "        [[[4]]]]])"
      ]
     },
     "execution_count": 110,
     "metadata": {},
     "output_type": "execute_result"
    }
   ],
   "source": [
    "vec[np.newaxis, :, np.newaxis, np.newaxis, np.newaxis]"
   ]
  },
  {
   "cell_type": "code",
   "execution_count": 119,
   "metadata": {},
   "outputs": [],
   "source": [
    "a = np.arange(5)"
   ]
  },
  {
   "cell_type": "code",
   "execution_count": 121,
   "metadata": {},
   "outputs": [],
   "source": [
    "b = np.arange(5) * 100"
   ]
  },
  {
   "cell_type": "code",
   "execution_count": 122,
   "metadata": {},
   "outputs": [
    {
     "data": {
      "text/plain": [
       "array([0, 1, 2, 3, 4])"
      ]
     },
     "execution_count": 122,
     "metadata": {},
     "output_type": "execute_result"
    }
   ],
   "source": [
    "a"
   ]
  },
  {
   "cell_type": "code",
   "execution_count": 123,
   "metadata": {},
   "outputs": [
    {
     "data": {
      "text/plain": [
       "array([  0, 100, 200, 300, 400])"
      ]
     },
     "execution_count": 123,
     "metadata": {},
     "output_type": "execute_result"
    }
   ],
   "source": [
    "b"
   ]
  },
  {
   "cell_type": "code",
   "execution_count": 124,
   "metadata": {},
   "outputs": [
    {
     "data": {
      "text/plain": [
       "array([  0,   1,   2,   3,   4,   0, 100, 200, 300, 400])"
      ]
     },
     "execution_count": 124,
     "metadata": {},
     "output_type": "execute_result"
    }
   ],
   "source": [
    "np.concatenate((a, b))"
   ]
  },
  {
   "cell_type": "code",
   "execution_count": 125,
   "metadata": {},
   "outputs": [
    {
     "data": {
      "text/plain": [
       "array([[  0,   1,   2,   3,   4],\n",
       "       [  0, 100, 200, 300, 400]])"
      ]
     },
     "execution_count": 125,
     "metadata": {},
     "output_type": "execute_result"
    }
   ],
   "source": [
    "np.concatenate((a[np.newaxis, :], b[np.newaxis, :]))"
   ]
  },
  {
   "cell_type": "code",
   "execution_count": 127,
   "metadata": {},
   "outputs": [],
   "source": [
    "c = np.stack((a, b))"
   ]
  },
  {
   "cell_type": "code",
   "execution_count": 128,
   "metadata": {},
   "outputs": [
    {
     "data": {
      "text/plain": [
       "array([[  0,   1,   2,   3,   4],\n",
       "       [  0, 100, 200, 300, 400]])"
      ]
     },
     "execution_count": 128,
     "metadata": {},
     "output_type": "execute_result"
    }
   ],
   "source": [
    "c"
   ]
  },
  {
   "cell_type": "code",
   "execution_count": 130,
   "metadata": {},
   "outputs": [
    {
     "data": {
      "text/plain": [
       "[array([[0],\n",
       "        [0]]),\n",
       " array([[  1,   2],\n",
       "        [100, 200]]),\n",
       " array([[  3,   4],\n",
       "        [300, 400]])]"
      ]
     },
     "execution_count": 130,
     "metadata": {},
     "output_type": "execute_result"
    }
   ],
   "source": [
    "np.split(c, (1, 3), axis=1)"
   ]
  },
  {
   "cell_type": "code",
   "execution_count": 132,
   "metadata": {},
   "outputs": [
    {
     "data": {
      "text/plain": [
       "array([  0, 101, 202, 303, 404])"
      ]
     },
     "execution_count": 132,
     "metadata": {},
     "output_type": "execute_result"
    }
   ],
   "source": [
    "np.sum(c, axis=0)"
   ]
  },
  {
   "cell_type": "code",
   "execution_count": 133,
   "metadata": {},
   "outputs": [
    {
     "data": {
      "text/plain": [
       "array([  10, 1000])"
      ]
     },
     "execution_count": 133,
     "metadata": {},
     "output_type": "execute_result"
    }
   ],
   "source": [
    "np.sum(c, axis=1)"
   ]
  },
  {
   "cell_type": "code",
   "execution_count": 139,
   "metadata": {},
   "outputs": [],
   "source": [
    "arr = np.arange(60).reshape((10, 6))"
   ]
  },
  {
   "cell_type": "code",
   "execution_count": 140,
   "metadata": {},
   "outputs": [
    {
     "data": {
      "text/plain": [
       "array([[ 0,  1,  2,  3,  4,  5],\n",
       "       [ 6,  7,  8,  9, 10, 11],\n",
       "       [12, 13, 14, 15, 16, 17],\n",
       "       [18, 19, 20, 21, 22, 23],\n",
       "       [24, 25, 26, 27, 28, 29],\n",
       "       [30, 31, 32, 33, 34, 35],\n",
       "       [36, 37, 38, 39, 40, 41],\n",
       "       [42, 43, 44, 45, 46, 47],\n",
       "       [48, 49, 50, 51, 52, 53],\n",
       "       [54, 55, 56, 57, 58, 59]])"
      ]
     },
     "execution_count": 140,
     "metadata": {},
     "output_type": "execute_result"
    }
   ],
   "source": [
    "arr"
   ]
  },
  {
   "cell_type": "code",
   "execution_count": 142,
   "metadata": {},
   "outputs": [
    {
     "data": {
      "text/plain": [
       "array([ 3,  9, 15])"
      ]
     },
     "execution_count": 142,
     "metadata": {},
     "output_type": "execute_result"
    }
   ],
   "source": [
    "arr[0:3, 3]"
   ]
  },
  {
   "cell_type": "code",
   "execution_count": 143,
   "metadata": {},
   "outputs": [
    {
     "data": {
      "text/plain": [
       "array([ 4, 16, 28, 40, 52])"
      ]
     },
     "execution_count": 143,
     "metadata": {},
     "output_type": "execute_result"
    }
   ],
   "source": [
    "arr[0:10:2, 4]"
   ]
  },
  {
   "cell_type": "code",
   "execution_count": 144,
   "metadata": {},
   "outputs": [
    {
     "data": {
      "text/plain": [
       "array([[ 0,  2,  4],\n",
       "       [12, 14, 16],\n",
       "       [24, 26, 28],\n",
       "       [36, 38, 40],\n",
       "       [48, 50, 52]])"
      ]
     },
     "execution_count": 144,
     "metadata": {},
     "output_type": "execute_result"
    }
   ],
   "source": [
    "arr[::2, ::2]"
   ]
  },
  {
   "cell_type": "code",
   "execution_count": 145,
   "metadata": {},
   "outputs": [],
   "source": [
    "arr2 = arr[::2, ::2]"
   ]
  },
  {
   "cell_type": "code",
   "execution_count": 146,
   "metadata": {},
   "outputs": [
    {
     "data": {
      "text/plain": [
       "  C_CONTIGUOUS : False\n",
       "  F_CONTIGUOUS : False\n",
       "  OWNDATA : False\n",
       "  WRITEABLE : True\n",
       "  ALIGNED : True\n",
       "  WRITEBACKIFCOPY : False\n",
       "  UPDATEIFCOPY : False"
      ]
     },
     "execution_count": 146,
     "metadata": {},
     "output_type": "execute_result"
    }
   ],
   "source": [
    "arr2.flags"
   ]
  },
  {
   "cell_type": "code",
   "execution_count": 147,
   "metadata": {},
   "outputs": [
    {
     "data": {
      "text/plain": [
       "(96, 16)"
      ]
     },
     "execution_count": 147,
     "metadata": {},
     "output_type": "execute_result"
    }
   ],
   "source": [
    "arr2.strides"
   ]
  },
  {
   "cell_type": "code",
   "execution_count": 148,
   "metadata": {},
   "outputs": [
    {
     "data": {
      "text/plain": [
       "array([[ 0,  1,  2,  3,  4,  5],\n",
       "       [ 6,  7,  8,  9, 10, 11],\n",
       "       [12, 13, 14, 15, 16, 17],\n",
       "       [18, 19, 20, 21, 22, 23],\n",
       "       [24, 25, 26, 27, 28, 29],\n",
       "       [30, 31, 32, 33, 34, 35],\n",
       "       [36, 37, 38, 39, 40, 41],\n",
       "       [42, 43, 44, 45, 46, 47],\n",
       "       [48, 49, 50, 51, 52, 53],\n",
       "       [54, 55, 56, 57, 58, 59]])"
      ]
     },
     "execution_count": 148,
     "metadata": {},
     "output_type": "execute_result"
    }
   ],
   "source": [
    "arr"
   ]
  },
  {
   "cell_type": "code",
   "execution_count": 150,
   "metadata": {},
   "outputs": [
    {
     "data": {
      "text/plain": [
       "array([ 1,  7, 13, 19, 25, 31, 37, 43, 49, 55])"
      ]
     },
     "execution_count": 150,
     "metadata": {},
     "output_type": "execute_result"
    }
   ],
   "source": [
    "arr[:, 1]"
   ]
  },
  {
   "cell_type": "code",
   "execution_count": 151,
   "metadata": {},
   "outputs": [],
   "source": [
    "arr = np.random.standard_normal((8, 8))"
   ]
  },
  {
   "cell_type": "code",
   "execution_count": 152,
   "metadata": {},
   "outputs": [
    {
     "data": {
      "text/plain": [
       "array([[-0.24328692, -0.38309847, -0.16104147,  1.39815953,  1.60144641,\n",
       "        -0.97496019, -0.71932549,  1.7049646 ],\n",
       "       [-1.67255125,  1.27657746,  0.9748509 , -1.17948254,  0.74230738,\n",
       "         1.28728995, -1.07591637,  0.4781963 ],\n",
       "       [ 1.00506721, -0.78678244,  0.95274494,  0.92740651, -0.99313811,\n",
       "         1.20964068, -1.59007948,  1.86265617],\n",
       "       [ 1.24647048, -0.76646577,  0.69511585, -1.02854508, -1.0790916 ,\n",
       "        -0.12604061, -1.14069101, -0.47513884],\n",
       "       [ 0.31005705, -0.42374616,  1.64224098,  0.39008488, -0.9165779 ,\n",
       "         0.37290277, -2.35789824,  1.05958989],\n",
       "       [ 0.73801906,  0.45495389,  0.49356027, -1.04643116, -0.85698955,\n",
       "        -0.70133566, -0.1900579 , -0.49134038],\n",
       "       [-1.51012324,  0.94084919, -0.41354443,  1.61912839,  1.25292268,\n",
       "         0.16490734,  0.93746274,  0.58356859],\n",
       "       [ 1.09351298,  0.09537923, -0.20816992, -0.0678147 ,  0.71842783,\n",
       "        -2.61005631,  1.37251052, -1.21012593]])"
      ]
     },
     "execution_count": 152,
     "metadata": {},
     "output_type": "execute_result"
    }
   ],
   "source": [
    "arr"
   ]
  },
  {
   "cell_type": "code",
   "execution_count": 153,
   "metadata": {},
   "outputs": [
    {
     "data": {
      "text/plain": [
       "array([[ -243.28692028,  -383.09847312,  -161.04146568,  1398.159527  ,\n",
       "         1601.44640979,  -974.96019372,  -719.32549344,  1704.96460087],\n",
       "       [-1672.55124553,  1276.57746227,   974.85089779, -1179.48254018,\n",
       "          742.30738053,  1287.28995122, -1075.9163655 ,   478.19630416],\n",
       "       [ 1005.06721332,  -786.78243554,   952.74493657,   927.4065143 ,\n",
       "         -993.13811225,  1209.64068041, -1590.07947773,  1862.6561675 ],\n",
       "       [ 1246.47048485,  -766.46577135,   695.11584986, -1028.54508154,\n",
       "        -1079.09160091,  -126.04060954, -1140.69100617,  -475.13883822],\n",
       "       [  310.05704548,  -423.7461599 ,  1642.24097575,   390.08488079,\n",
       "         -916.57789682,   372.90277389, -2357.89824244,  1059.58988874],\n",
       "       [  738.01906461,   454.95388874,   493.5602728 , -1046.43115541,\n",
       "         -856.98954627,  -701.33565803,  -190.05790199,  -491.34037988],\n",
       "       [-1510.12324379,   940.8491922 ,  -413.54443184,  1619.12839206,\n",
       "         1252.92268272,   164.90733877,   937.46273933,   583.56858935],\n",
       "       [ 1093.51298223,    95.37923435,  -208.1699175 ,   -67.81469646,\n",
       "          718.42783114, -2610.0563097 ,  1372.51052183, -1210.12593216]])"
      ]
     },
     "execution_count": 153,
     "metadata": {},
     "output_type": "execute_result"
    }
   ],
   "source": [
    "arr * 1000"
   ]
  },
  {
   "cell_type": "code",
   "execution_count": 154,
   "metadata": {},
   "outputs": [
    {
     "data": {
      "text/plain": [
       "array([[False, False, False,  True,  True, False, False,  True],\n",
       "       [False,  True,  True, False,  True,  True, False,  True],\n",
       "       [ True, False,  True,  True, False,  True, False,  True],\n",
       "       [ True, False,  True, False, False, False, False, False],\n",
       "       [ True, False,  True,  True, False,  True, False,  True],\n",
       "       [ True,  True,  True, False, False, False, False, False],\n",
       "       [False,  True, False,  True,  True,  True,  True,  True],\n",
       "       [ True,  True, False, False,  True, False,  True, False]])"
      ]
     },
     "execution_count": 154,
     "metadata": {},
     "output_type": "execute_result"
    }
   ],
   "source": [
    "arr > 0"
   ]
  },
  {
   "cell_type": "code",
   "execution_count": 156,
   "metadata": {},
   "outputs": [],
   "source": [
    "arr[arr < 0] = 0.0"
   ]
  },
  {
   "cell_type": "code",
   "execution_count": 157,
   "metadata": {},
   "outputs": [
    {
     "data": {
      "text/plain": [
       "array([[0.        , 0.        , 0.        , 1.39815953, 1.60144641,\n",
       "        0.        , 0.        , 1.7049646 ],\n",
       "       [0.        , 1.27657746, 0.9748509 , 0.        , 0.74230738,\n",
       "        1.28728995, 0.        , 0.4781963 ],\n",
       "       [1.00506721, 0.        , 0.95274494, 0.92740651, 0.        ,\n",
       "        1.20964068, 0.        , 1.86265617],\n",
       "       [1.24647048, 0.        , 0.69511585, 0.        , 0.        ,\n",
       "        0.        , 0.        , 0.        ],\n",
       "       [0.31005705, 0.        , 1.64224098, 0.39008488, 0.        ,\n",
       "        0.37290277, 0.        , 1.05958989],\n",
       "       [0.73801906, 0.45495389, 0.49356027, 0.        , 0.        ,\n",
       "        0.        , 0.        , 0.        ],\n",
       "       [0.        , 0.94084919, 0.        , 1.61912839, 1.25292268,\n",
       "        0.16490734, 0.93746274, 0.58356859],\n",
       "       [1.09351298, 0.09537923, 0.        , 0.        , 0.71842783,\n",
       "        0.        , 1.37251052, 0.        ]])"
      ]
     },
     "execution_count": 157,
     "metadata": {},
     "output_type": "execute_result"
    }
   ],
   "source": [
    "arr"
   ]
  },
  {
   "cell_type": "code",
   "execution_count": 158,
   "metadata": {},
   "outputs": [
    {
     "data": {
      "text/plain": [
       "array([[0.        , 0.        , 0.        , 1.39815953, 1.60144641,\n",
       "        0.        , 0.        , 1.7049646 ],\n",
       "       [0.        , 1.27657746, 0.9748509 , 0.        , 0.74230738,\n",
       "        1.28728995, 0.        , 0.4781963 ],\n",
       "       [1.00506721, 0.        , 0.95274494, 0.92740651, 0.        ,\n",
       "        1.20964068, 0.        , 1.86265617],\n",
       "       [1.24647048, 0.        , 0.69511585, 0.        , 0.        ,\n",
       "        0.        , 0.        , 0.        ],\n",
       "       [0.31005705, 0.        , 1.64224098, 0.39008488, 0.        ,\n",
       "        0.37290277, 0.        , 1.05958989],\n",
       "       [0.73801906, 0.45495389, 0.49356027, 0.        , 0.        ,\n",
       "        0.        , 0.        , 0.        ],\n",
       "       [0.        , 0.94084919, 0.        , 1.61912839, 1.25292268,\n",
       "        0.16490734, 0.93746274, 0.58356859],\n",
       "       [1.09351298, 0.09537923, 0.        , 0.        , 0.71842783,\n",
       "        0.        , 1.37251052, 0.        ]])"
      ]
     },
     "execution_count": 158,
     "metadata": {},
     "output_type": "execute_result"
    }
   ],
   "source": [
    "arr"
   ]
  },
  {
   "cell_type": "code",
   "execution_count": 160,
   "metadata": {},
   "outputs": [],
   "source": [
    "arr = np.arange(60).reshape((10, -1))"
   ]
  },
  {
   "cell_type": "code",
   "execution_count": 161,
   "metadata": {},
   "outputs": [
    {
     "data": {
      "text/plain": [
       "array([[ 0,  1,  2,  3,  4,  5],\n",
       "       [ 6,  7,  8,  9, 10, 11],\n",
       "       [12, 13, 14, 15, 16, 17],\n",
       "       [18, 19, 20, 21, 22, 23],\n",
       "       [24, 25, 26, 27, 28, 29],\n",
       "       [30, 31, 32, 33, 34, 35],\n",
       "       [36, 37, 38, 39, 40, 41],\n",
       "       [42, 43, 44, 45, 46, 47],\n",
       "       [48, 49, 50, 51, 52, 53],\n",
       "       [54, 55, 56, 57, 58, 59]])"
      ]
     },
     "execution_count": 161,
     "metadata": {},
     "output_type": "execute_result"
    }
   ],
   "source": [
    "arr"
   ]
  },
  {
   "cell_type": "code",
   "execution_count": 164,
   "metadata": {},
   "outputs": [
    {
     "data": {
      "text/plain": [
       "array([[ 1,  0,  1,  2,  0],\n",
       "       [ 7,  6,  7,  8,  6],\n",
       "       [13, 12, 13, 14, 12],\n",
       "       [19, 18, 19, 20, 18],\n",
       "       [25, 24, 25, 26, 24],\n",
       "       [31, 30, 31, 32, 30],\n",
       "       [37, 36, 37, 38, 36],\n",
       "       [43, 42, 43, 44, 42],\n",
       "       [49, 48, 49, 50, 48],\n",
       "       [55, 54, 55, 56, 54]])"
      ]
     },
     "execution_count": 164,
     "metadata": {},
     "output_type": "execute_result"
    }
   ],
   "source": [
    "arr[:, [1, 0, 1, 2, 0]]"
   ]
  },
  {
   "cell_type": "code",
   "execution_count": 165,
   "metadata": {},
   "outputs": [
    {
     "data": {
      "text/plain": [
       "array([[ 0,  1,  2,  3,  4,  5],\n",
       "       [ 6,  7,  8,  9, 10, 11],\n",
       "       [12, 13, 14, 15, 16, 17],\n",
       "       [18, 19, 20, 21, 22, 23],\n",
       "       [24, 25, 26, 27, 28, 29],\n",
       "       [30, 31, 32, 33, 34, 35],\n",
       "       [36, 37, 38, 39, 40, 41],\n",
       "       [42, 43, 44, 45, 46, 47],\n",
       "       [48, 49, 50, 51, 52, 53],\n",
       "       [54, 55, 56, 57, 58, 59]])"
      ]
     },
     "execution_count": 165,
     "metadata": {},
     "output_type": "execute_result"
    }
   ],
   "source": [
    "arr"
   ]
  },
  {
   "cell_type": "code",
   "execution_count": 166,
   "metadata": {},
   "outputs": [
    {
     "data": {
      "text/plain": [
       "1770"
      ]
     },
     "execution_count": 166,
     "metadata": {},
     "output_type": "execute_result"
    }
   ],
   "source": [
    "arr.sum()"
   ]
  },
  {
   "cell_type": "code",
   "execution_count": 167,
   "metadata": {},
   "outputs": [
    {
     "data": {
      "text/plain": [
       "array([270, 280, 290, 300, 310, 320])"
      ]
     },
     "execution_count": 167,
     "metadata": {},
     "output_type": "execute_result"
    }
   ],
   "source": [
    "arr.sum(axis=0)"
   ]
  },
  {
   "cell_type": "code",
   "execution_count": 168,
   "metadata": {},
   "outputs": [
    {
     "data": {
      "text/plain": [
       "array([ 15,  51,  87, 123, 159, 195, 231, 267, 303, 339])"
      ]
     },
     "execution_count": 168,
     "metadata": {},
     "output_type": "execute_result"
    }
   ],
   "source": [
    "arr.sum(axis=1)"
   ]
  },
  {
   "cell_type": "code",
   "execution_count": 169,
   "metadata": {},
   "outputs": [
    {
     "data": {
      "text/plain": [
       "array([ 0,  6, 12, 18, 24, 30, 36, 42, 48, 54])"
      ]
     },
     "execution_count": 169,
     "metadata": {},
     "output_type": "execute_result"
    }
   ],
   "source": [
    "arr.min(axis=1)"
   ]
  },
  {
   "cell_type": "code",
   "execution_count": 170,
   "metadata": {},
   "outputs": [
    {
     "data": {
      "text/plain": [
       "array([0, 1, 2, 3, 4, 5])"
      ]
     },
     "execution_count": 170,
     "metadata": {},
     "output_type": "execute_result"
    }
   ],
   "source": [
    "arr.min(axis=0)"
   ]
  },
  {
   "cell_type": "code",
   "execution_count": 175,
   "metadata": {},
   "outputs": [
    {
     "data": {
      "text/plain": [
       "(array([0, 0, 0, 0, 0, 0, 0, 0, 0, 0]), array([5, 5, 5, 5, 5, 5, 5, 5, 5, 5]))"
      ]
     },
     "execution_count": 175,
     "metadata": {},
     "output_type": "execute_result"
    }
   ],
   "source": [
    "np.unravel_index(arr.argmax(axis=1), arr.shape)"
   ]
  },
  {
   "cell_type": "code",
   "execution_count": 176,
   "metadata": {},
   "outputs": [
    {
     "data": {
      "text/plain": [
       "array([[ 0,  1,  2,  3,  4,  5],\n",
       "       [ 6,  7,  8,  9, 10, 11],\n",
       "       [12, 13, 14, 15, 16, 17],\n",
       "       [18, 19, 20, 21, 22, 23],\n",
       "       [24, 25, 26, 27, 28, 29],\n",
       "       [30, 31, 32, 33, 34, 35],\n",
       "       [36, 37, 38, 39, 40, 41],\n",
       "       [42, 43, 44, 45, 46, 47],\n",
       "       [48, 49, 50, 51, 52, 53],\n",
       "       [54, 55, 56, 57, 58, 59]])"
      ]
     },
     "execution_count": 176,
     "metadata": {},
     "output_type": "execute_result"
    }
   ],
   "source": [
    "arr"
   ]
  },
  {
   "cell_type": "code",
   "execution_count": 177,
   "metadata": {},
   "outputs": [
    {
     "data": {
      "text/plain": [
       "array([[    0,  1000,  2000,  3000,  4000,  5000],\n",
       "       [ 6000,  7000,  8000,  9000, 10000, 11000],\n",
       "       [12000, 13000, 14000, 15000, 16000, 17000],\n",
       "       [18000, 19000, 20000, 21000, 22000, 23000],\n",
       "       [24000, 25000, 26000, 27000, 28000, 29000],\n",
       "       [30000, 31000, 32000, 33000, 34000, 35000],\n",
       "       [36000, 37000, 38000, 39000, 40000, 41000],\n",
       "       [42000, 43000, 44000, 45000, 46000, 47000],\n",
       "       [48000, 49000, 50000, 51000, 52000, 53000],\n",
       "       [54000, 55000, 56000, 57000, 58000, 59000]])"
      ]
     },
     "execution_count": 177,
     "metadata": {},
     "output_type": "execute_result"
    }
   ],
   "source": [
    "arr * 1000"
   ]
  },
  {
   "cell_type": "code",
   "execution_count": 178,
   "metadata": {},
   "outputs": [
    {
     "data": {
      "text/plain": [
       "array([[  0,   2,   4,   6,   8,  10],\n",
       "       [ 12,  14,  16,  18,  20,  22],\n",
       "       [ 24,  26,  28,  30,  32,  34],\n",
       "       [ 36,  38,  40,  42,  44,  46],\n",
       "       [ 48,  50,  52,  54,  56,  58],\n",
       "       [ 60,  62,  64,  66,  68,  70],\n",
       "       [ 72,  74,  76,  78,  80,  82],\n",
       "       [ 84,  86,  88,  90,  92,  94],\n",
       "       [ 96,  98, 100, 102, 104, 106],\n",
       "       [108, 110, 112, 114, 116, 118]])"
      ]
     },
     "execution_count": 178,
     "metadata": {},
     "output_type": "execute_result"
    }
   ],
   "source": [
    "arr + arr"
   ]
  },
  {
   "cell_type": "code",
   "execution_count": 180,
   "metadata": {},
   "outputs": [
    {
     "data": {
      "text/plain": [
       "array([[ 0,  2,  4,  6,  8, 10],\n",
       "       [ 6,  8, 10, 12, 14, 16],\n",
       "       [12, 14, 16, 18, 20, 22],\n",
       "       [18, 20, 22, 24, 26, 28],\n",
       "       [24, 26, 28, 30, 32, 34],\n",
       "       [30, 32, 34, 36, 38, 40],\n",
       "       [36, 38, 40, 42, 44, 46],\n",
       "       [42, 44, 46, 48, 50, 52],\n",
       "       [48, 50, 52, 54, 56, 58],\n",
       "       [54, 56, 58, 60, 62, 64]])"
      ]
     },
     "execution_count": 180,
     "metadata": {},
     "output_type": "execute_result"
    }
   ],
   "source": [
    "arr + np.arange(6)"
   ]
  },
  {
   "cell_type": "code",
   "execution_count": 181,
   "metadata": {},
   "outputs": [
    {
     "data": {
      "text/plain": [
       "array([[ 0,  1,  2,  3,  4,  5],\n",
       "       [ 6,  7,  8,  9, 10, 11],\n",
       "       [12, 13, 14, 15, 16, 17],\n",
       "       [18, 19, 20, 21, 22, 23],\n",
       "       [24, 25, 26, 27, 28, 29],\n",
       "       [30, 31, 32, 33, 34, 35],\n",
       "       [36, 37, 38, 39, 40, 41],\n",
       "       [42, 43, 44, 45, 46, 47],\n",
       "       [48, 49, 50, 51, 52, 53],\n",
       "       [54, 55, 56, 57, 58, 59]])"
      ]
     },
     "execution_count": 181,
     "metadata": {},
     "output_type": "execute_result"
    }
   ],
   "source": [
    "arr"
   ]
  },
  {
   "cell_type": "code",
   "execution_count": 182,
   "metadata": {},
   "outputs": [],
   "source": [
    "orig = np.ones((5, 3, 8))"
   ]
  },
  {
   "cell_type": "code",
   "execution_count": 183,
   "metadata": {},
   "outputs": [
    {
     "data": {
      "text/plain": [
       "array([[[1., 1., 1., 1., 1., 1., 1., 1.],\n",
       "        [1., 1., 1., 1., 1., 1., 1., 1.],\n",
       "        [1., 1., 1., 1., 1., 1., 1., 1.]],\n",
       "\n",
       "       [[1., 1., 1., 1., 1., 1., 1., 1.],\n",
       "        [1., 1., 1., 1., 1., 1., 1., 1.],\n",
       "        [1., 1., 1., 1., 1., 1., 1., 1.]],\n",
       "\n",
       "       [[1., 1., 1., 1., 1., 1., 1., 1.],\n",
       "        [1., 1., 1., 1., 1., 1., 1., 1.],\n",
       "        [1., 1., 1., 1., 1., 1., 1., 1.]],\n",
       "\n",
       "       [[1., 1., 1., 1., 1., 1., 1., 1.],\n",
       "        [1., 1., 1., 1., 1., 1., 1., 1.],\n",
       "        [1., 1., 1., 1., 1., 1., 1., 1.]],\n",
       "\n",
       "       [[1., 1., 1., 1., 1., 1., 1., 1.],\n",
       "        [1., 1., 1., 1., 1., 1., 1., 1.],\n",
       "        [1., 1., 1., 1., 1., 1., 1., 1.]]])"
      ]
     },
     "execution_count": 183,
     "metadata": {},
     "output_type": "execute_result"
    }
   ],
   "source": [
    "orig"
   ]
  },
  {
   "cell_type": "code",
   "execution_count": 184,
   "metadata": {},
   "outputs": [
    {
     "data": {
      "text/plain": [
       "array([[[1., 2., 3., 4., 5., 6., 7., 8.],\n",
       "        [1., 2., 3., 4., 5., 6., 7., 8.],\n",
       "        [1., 2., 3., 4., 5., 6., 7., 8.]],\n",
       "\n",
       "       [[1., 2., 3., 4., 5., 6., 7., 8.],\n",
       "        [1., 2., 3., 4., 5., 6., 7., 8.],\n",
       "        [1., 2., 3., 4., 5., 6., 7., 8.]],\n",
       "\n",
       "       [[1., 2., 3., 4., 5., 6., 7., 8.],\n",
       "        [1., 2., 3., 4., 5., 6., 7., 8.],\n",
       "        [1., 2., 3., 4., 5., 6., 7., 8.]],\n",
       "\n",
       "       [[1., 2., 3., 4., 5., 6., 7., 8.],\n",
       "        [1., 2., 3., 4., 5., 6., 7., 8.],\n",
       "        [1., 2., 3., 4., 5., 6., 7., 8.]],\n",
       "\n",
       "       [[1., 2., 3., 4., 5., 6., 7., 8.],\n",
       "        [1., 2., 3., 4., 5., 6., 7., 8.],\n",
       "        [1., 2., 3., 4., 5., 6., 7., 8.]]])"
      ]
     },
     "execution_count": 184,
     "metadata": {},
     "output_type": "execute_result"
    }
   ],
   "source": [
    "orig + np.arange(8)"
   ]
  },
  {
   "cell_type": "code",
   "execution_count": 188,
   "metadata": {},
   "outputs": [
    {
     "data": {
      "text/plain": [
       "array([[[1., 1., 1., 1., 1., 1., 1., 1.],\n",
       "        [1., 1., 1., 1., 1., 1., 1., 1.],\n",
       "        [1., 1., 1., 1., 1., 1., 1., 1.]],\n",
       "\n",
       "       [[2., 2., 2., 2., 2., 2., 2., 2.],\n",
       "        [2., 2., 2., 2., 2., 2., 2., 2.],\n",
       "        [2., 2., 2., 2., 2., 2., 2., 2.]],\n",
       "\n",
       "       [[3., 3., 3., 3., 3., 3., 3., 3.],\n",
       "        [3., 3., 3., 3., 3., 3., 3., 3.],\n",
       "        [3., 3., 3., 3., 3., 3., 3., 3.]],\n",
       "\n",
       "       [[4., 4., 4., 4., 4., 4., 4., 4.],\n",
       "        [4., 4., 4., 4., 4., 4., 4., 4.],\n",
       "        [4., 4., 4., 4., 4., 4., 4., 4.]],\n",
       "\n",
       "       [[5., 5., 5., 5., 5., 5., 5., 5.],\n",
       "        [5., 5., 5., 5., 5., 5., 5., 5.],\n",
       "        [5., 5., 5., 5., 5., 5., 5., 5.]]])"
      ]
     },
     "execution_count": 188,
     "metadata": {},
     "output_type": "execute_result"
    }
   ],
   "source": [
    "orig + np.arange(5)[:, np.newaxis, np.newaxis]"
   ]
  },
  {
   "cell_type": "code",
   "execution_count": 189,
   "metadata": {},
   "outputs": [
    {
     "data": {
      "text/plain": [
       "array([0, 1, 2, 3, 4])"
      ]
     },
     "execution_count": 189,
     "metadata": {},
     "output_type": "execute_result"
    }
   ],
   "source": [
    "vec"
   ]
  },
  {
   "cell_type": "code",
   "execution_count": 194,
   "metadata": {},
   "outputs": [
    {
     "data": {
      "text/plain": [
       "array([[ 0,  1,  2,  3,  4,  5],\n",
       "       [ 6,  7,  8,  9, 10, 11],\n",
       "       [12, 13, 14, 15, 16, 17],\n",
       "       [18, 19, 20, 21, 22, 23],\n",
       "       [24, 25, 26, 27, 28, 29],\n",
       "       [30, 31, 32, 33, 34, 35],\n",
       "       [36, 37, 38, 39, 40, 41],\n",
       "       [42, 43, 44, 45, 46, 47],\n",
       "       [48, 49, 50, 51, 52, 53],\n",
       "       [54, 55, 56, 57, 58, 59]])"
      ]
     },
     "execution_count": 194,
     "metadata": {},
     "output_type": "execute_result"
    }
   ],
   "source": [
    "arr"
   ]
  },
  {
   "cell_type": "code",
   "execution_count": 198,
   "metadata": {},
   "outputs": [
    {
     "data": {
      "text/plain": [
       "array([ 15,  51,  87, 123, 159, 195, 231, 267, 303, 339])"
      ]
     },
     "execution_count": 198,
     "metadata": {},
     "output_type": "execute_result"
    }
   ],
   "source": [
    "arr.sum(axis=1)"
   ]
  },
  {
   "cell_type": "code",
   "execution_count": 202,
   "metadata": {},
   "outputs": [
    {
     "data": {
      "text/plain": [
       "(4, 7)"
      ]
     },
     "execution_count": 202,
     "metadata": {},
     "output_type": "execute_result"
    }
   ],
   "source": [
    "np.arange(28).reshape((4, -1)).shape"
   ]
  },
  {
   "cell_type": "code",
   "execution_count": 204,
   "metadata": {},
   "outputs": [
    {
     "data": {
      "text/plain": [
       "array([ 2.5,  8.5, 14.5, 20.5, 26.5, 32.5, 38.5, 44.5, 50.5, 56.5])"
      ]
     },
     "execution_count": 204,
     "metadata": {},
     "output_type": "execute_result"
    }
   ],
   "source": [
    "arr.mean(axis=1)"
   ]
  },
  {
   "cell_type": "code",
   "execution_count": 205,
   "metadata": {},
   "outputs": [
    {
     "data": {
      "text/plain": [
       "array([[ 0,  1,  2,  3,  4,  5],\n",
       "       [ 6,  7,  8,  9, 10, 11],\n",
       "       [12, 13, 14, 15, 16, 17],\n",
       "       [18, 19, 20, 21, 22, 23],\n",
       "       [24, 25, 26, 27, 28, 29],\n",
       "       [30, 31, 32, 33, 34, 35],\n",
       "       [36, 37, 38, 39, 40, 41],\n",
       "       [42, 43, 44, 45, 46, 47],\n",
       "       [48, 49, 50, 51, 52, 53],\n",
       "       [54, 55, 56, 57, 58, 59]])"
      ]
     },
     "execution_count": 205,
     "metadata": {},
     "output_type": "execute_result"
    }
   ],
   "source": [
    "arr"
   ]
  },
  {
   "cell_type": "code",
   "execution_count": null,
   "metadata": {},
   "outputs": [],
   "source": []
  }
 ],
 "metadata": {
  "kernelspec": {
   "display_name": "Python 3",
   "language": "python",
   "name": "python3"
  },
  "language_info": {
   "codemirror_mode": {
    "name": "ipython",
    "version": 3
   },
   "file_extension": ".py",
   "mimetype": "text/x-python",
   "name": "python",
   "nbconvert_exporter": "python",
   "pygments_lexer": "ipython3",
   "version": "3.8.3"
  }
 },
 "nbformat": 4,
 "nbformat_minor": 4
}
